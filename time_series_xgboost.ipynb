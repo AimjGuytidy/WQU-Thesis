{
  "nbformat": 4,
  "nbformat_minor": 0,
  "metadata": {
    "colab": {
      "name": "time_series_xgboost.ipynb",
      "provenance": [],
      "collapsed_sections": [],
      "authorship_tag": "ABX9TyNFGFbO/RRbijrk7JzELqQg",
      "include_colab_link": true
    },
    "kernelspec": {
      "name": "python3",
      "display_name": "Python 3"
    },
    "language_info": {
      "name": "python"
    }
  },
  "cells": [
    {
      "cell_type": "markdown",
      "metadata": {
        "id": "view-in-github",
        "colab_type": "text"
      },
      "source": [
        "<a href=\"https://colab.research.google.com/github/AimjGuytidy/WQU-Thesis/blob/main/time_series_xgboost.ipynb\" target=\"_parent\"><img src=\"https://colab.research.google.com/assets/colab-badge.svg\" alt=\"Open In Colab\"/></a>"
      ]
    },
    {
      "cell_type": "code",
      "metadata": {
        "id": "5vNLiXmM_-L1"
      },
      "source": [
        "# forecast monthly births with xgboost\n",
        "from numpy import asarray\n",
        "from pandas import read_csv\n",
        "from pandas import DataFrame\n",
        "from pandas import concat\n",
        "from sklearn.metrics import mean_absolute_error\n",
        "from xgboost import XGBRegressor\n",
        "from matplotlib import pyplot\n",
        "%matplotlib inline"
      ],
      "execution_count": null,
      "outputs": []
    },
    {
      "cell_type": "code",
      "metadata": {
        "id": "qYiRv2TVAh-w"
      },
      "source": [
        "\n",
        "# transform a time series dataset into a supervised learning dataset\n",
        "def series_to_supervised(data, n_in=1, n_out=1, dropnan=True):\n",
        "\tn_vars = 1 if type(data) is list else data.shape[1]\n",
        "\tdf = DataFrame(data)\n",
        "\tcols = list()\n",
        "\t# input sequence (t-n, ... t-1)\n",
        "\tfor i in range(n_in, 0, -1):\n",
        "\t\tcols.append(df.shift(i))\n",
        "\t# forecast sequence (t, t+1, ... t+n)\n",
        "\tfor i in range(0, n_out):\n",
        "\t\tcols.append(df.shift(-i))\n",
        "\t# put it all together\n",
        "\tagg = concat(cols, axis=1)\n",
        "\t# drop rows with NaN values\n",
        "\tif dropnan:\n",
        "\t\tagg.dropna(inplace=True)\n",
        "\treturn agg.values\n"
      ],
      "execution_count": null,
      "outputs": []
    },
    {
      "cell_type": "code",
      "metadata": {
        "id": "TeFMjBbAAkV4"
      },
      "source": [
        " \n",
        "# split a univariate dataset into train/test sets\n",
        "def train_test_split(data, n_test):\n",
        "\treturn data[:-n_test, :], data[-n_test:, :]\n"
      ],
      "execution_count": null,
      "outputs": []
    },
    {
      "cell_type": "code",
      "metadata": {
        "id": "Ec-eoeFYAl8e"
      },
      "source": [
        " \n",
        "# fit an xgboost model and make a one step prediction\n",
        "def xgboost_forecast(train, testX):\n",
        "\t# transform list into array\n",
        "\ttrain = asarray(train)\n",
        "\t# split into input and output columns\n",
        "\ttrainX, trainy = train[:, :-1], train[:, -1]\n",
        "\t# fit model\n",
        "\tmodel = XGBRegressor(objective='reg:squarederror', n_estimators=1000)\n",
        "\tmodel.fit(trainX, trainy)\n",
        "\t# make a one-step prediction\n",
        "\tyhat = model.predict(asarray([testX]))\n",
        "\treturn yhat[0]\n"
      ],
      "execution_count": null,
      "outputs": []
    },
    {
      "cell_type": "code",
      "metadata": {
        "id": "FQRlDoDeAnTa"
      },
      "source": [
        " \n",
        "# walk-forward validation for univariate data\n",
        "def walk_forward_validation(data, n_test):\n",
        "\tpredictions = list()\n",
        "\t# split dataset\n",
        "\ttrain, test = train_test_split(data, n_test)\n",
        "\t# seed history with training dataset\n",
        "\thistory = [x for x in train]\n",
        "\t# step over each time-step in the test set\n",
        "\tfor i in range(len(test)):\n",
        "\t\t# split test row into input and output columns\n",
        "\t\ttestX, testy = test[i, :-1], test[i, -1]\n",
        "\t\t# fit model on history and make a prediction\n",
        "\t\tyhat = xgboost_forecast(history, testX)\n",
        "\t\t# store forecast in list of predictions\n",
        "\t\tpredictions.append(yhat)\n",
        "\t\t# add actual observation to history for the next loop\n",
        "\t\thistory.append(test[i])\n",
        "\t\t# summarize progress\n",
        "\t\tprint('>expected=%.1f, predicted=%.1f' % (testy, yhat))\n",
        "\t# estimate prediction error\n",
        "\terror = mean_absolute_error(test[:, -1], predictions)\n",
        "\treturn error, test[:, -1], predictions\n",
        " "
      ],
      "execution_count": null,
      "outputs": []
    },
    {
      "cell_type": "code",
      "metadata": {
        "colab": {
          "base_uri": "https://localhost:8080/",
          "height": 265
        },
        "id": "c7fTT0jLApA5",
        "outputId": "bf105098-e3b2-4901-8bcf-cf3040592456"
      },
      "source": [
        "# load dataset\n",
        "series = read_csv('/content/trial.csv')\n",
        "values = series.values\n",
        "# values\n",
        "# plot dataset\n",
        "pyplot.plot(values)\n",
        "pyplot.show()\n"
      ],
      "execution_count": null,
      "outputs": [
        {
          "output_type": "display_data",
          "data": {
            "image/png": "[encoded data removed]",
            "text/plain": [
              "<Figure size 432x288 with 1 Axes>"
            ]
          },
          "metadata": {
            "needs_background": "light"
          }
        }
      ]
    },
    {
      "cell_type": "code",
      "metadata": {
        "colab": {
          "base_uri": "https://localhost:8080/"
        },
        "id": "neXEpOfCDXPz",
        "outputId": "431ff9f7-b17e-44a4-9ffd-2f244058b85b"
      },
      "source": [
        "\n",
        "# transform the time series data into supervised learning\n",
        "data = series_to_supervised(values, n_in=6)\n",
        "data.shape"
      ],
      "execution_count": null,
      "outputs": [
        {
          "output_type": "execute_result",
          "data": {
            "text/plain": [
              "(999, 7)"
            ]
          },
          "metadata": {},
          "execution_count": 24
        }
      ]
    },
    {
      "cell_type": "code",
      "metadata": {
        "colab": {
          "base_uri": "https://localhost:8080/",
          "height": 540
        },
        "id": "IyDZ4cQqExVq",
        "outputId": "9ce52540-a7b2-45b4-b9d2-5bc9533843fd"
      },
      "source": [
        "\n",
        "# evaluate\n",
        "mae, y, yhat = walk_forward_validation(data, 12)\n",
        "print('MAE: %.3f' % mae)\n",
        "# plot expected vs preducted\n",
        "pyplot.plot(y, label='Expected')\n",
        "pyplot.plot(yhat, label='Predicted')\n",
        "pyplot.legend()\n",
        "pyplot.show()"
      ],
      "execution_count": null,
      "outputs": [
        {
          "output_type": "stream",
          "name": "stderr",
          "text": [
            "/usr/local/lib/python3.7/dist-packages/xgboost/core.py:613: UserWarning: Use subset (sliced data) of np.ndarray is not recommended because it will generate extra copies and increase memory consumption\n",
            "  warnings.warn(\"Use subset (sliced data) of np.ndarray is not recommended \" +\n"
          ]
        },
        {
          "output_type": "stream",
          "name": "stdout",
          "text": [
            ">expected=68.4, predicted=68.1\n",
            ">expected=67.4, predicted=68.6\n",
            ">expected=66.5, predicted=68.0\n",
            ">expected=65.4, predicted=67.3\n",
            ">expected=63.7, predicted=65.4\n",
            ">expected=62.2, predicted=63.3\n",
            ">expected=65.7, predicted=61.3\n",
            ">expected=67.5, predicted=67.0\n",
            ">expected=68.5, predicted=66.8\n",
            ">expected=67.4, predicted=70.0\n",
            ">expected=68.8, predicted=66.5\n",
            ">expected=69.3, predicted=69.5\n",
            "MAE: 1.614\n"
          ]
        },
        {
          "output_type": "display_data",
          "data": {
            "image/png": "[encoded data removed]",
            "text/plain": [
              "<Figure size 432x288 with 1 Axes>"
            ]
          },
          "metadata": {
            "needs_background": "light"
          }
        }
      ]
    },
    {
      "cell_type": "code",
      "metadata": {
        "colab": {
          "base_uri": "https://localhost:8080/",
          "height": 419
        },
        "id": "d6PI7qOXFByG",
        "outputId": "cbeabfef-ea5d-4120-e21e-6c5a856cb139"
      },
      "source": [
        "DataFrame(data)"
      ],
      "execution_count": null,
      "outputs": [
        {
          "output_type": "execute_result",
          "data": {
            "text/html": [
              "<div>\n",
              "<style scoped>\n",
              "    .dataframe tbody tr th:only-of-type {\n",
              "        vertical-align: middle;\n",
              "    }\n",
              "\n",
              "    .dataframe tbody tr th {\n",
              "        vertical-align: top;\n",
              "    }\n",
              "\n",
              "    .dataframe thead th {\n",
              "        text-align: right;\n",
              "    }\n",
              "</style>\n",
              "<table border=\"1\" class=\"dataframe\">\n",
              "  <thead>\n",
              "    <tr style=\"text-align: right;\">\n",
              "      <th></th>\n",
              "      <th>0</th>\n",
              "      <th>1</th>\n",
              "      <th>2</th>\n",
              "      <th>3</th>\n",
              "      <th>4</th>\n",
              "      <th>5</th>\n",
              "      <th>6</th>\n",
              "    </tr>\n",
              "  </thead>\n",
              "  <tbody>\n",
              "    <tr>\n",
              "      <th>0</th>\n",
              "      <td>47.65</td>\n",
              "      <td>46.40</td>\n",
              "      <td>46.46</td>\n",
              "      <td>45.96</td>\n",
              "      <td>47.26</td>\n",
              "      <td>47.32</td>\n",
              "      <td>48.63</td>\n",
              "    </tr>\n",
              "    <tr>\n",
              "      <th>1</th>\n",
              "      <td>46.40</td>\n",
              "      <td>46.46</td>\n",
              "      <td>45.96</td>\n",
              "      <td>47.26</td>\n",
              "      <td>47.32</td>\n",
              "      <td>48.63</td>\n",
              "      <td>49.13</td>\n",
              "    </tr>\n",
              "    <tr>\n",
              "      <th>2</th>\n",
              "      <td>46.46</td>\n",
              "      <td>45.96</td>\n",
              "      <td>47.26</td>\n",
              "      <td>47.32</td>\n",
              "      <td>48.63</td>\n",
              "      <td>49.13</td>\n",
              "      <td>49.10</td>\n",
              "    </tr>\n",
              "    <tr>\n",
              "      <th>3</th>\n",
              "      <td>45.96</td>\n",
              "      <td>47.26</td>\n",
              "      <td>47.32</td>\n",
              "      <td>48.63</td>\n",
              "      <td>49.13</td>\n",
              "      <td>49.10</td>\n",
              "      <td>47.44</td>\n",
              "    </tr>\n",
              "    <tr>\n",
              "      <th>4</th>\n",
              "      <td>47.26</td>\n",
              "      <td>47.32</td>\n",
              "      <td>48.63</td>\n",
              "      <td>49.13</td>\n",
              "      <td>49.10</td>\n",
              "      <td>47.44</td>\n",
              "      <td>48.06</td>\n",
              "    </tr>\n",
              "    <tr>\n",
              "      <th>...</th>\n",
              "      <td>...</td>\n",
              "      <td>...</td>\n",
              "      <td>...</td>\n",
              "      <td>...</td>\n",
              "      <td>...</td>\n",
              "      <td>...</td>\n",
              "      <td>...</td>\n",
              "    </tr>\n",
              "    <tr>\n",
              "      <th>994</th>\n",
              "      <td>67.44</td>\n",
              "      <td>66.50</td>\n",
              "      <td>65.36</td>\n",
              "      <td>63.69</td>\n",
              "      <td>62.25</td>\n",
              "      <td>65.65</td>\n",
              "      <td>67.50</td>\n",
              "    </tr>\n",
              "    <tr>\n",
              "      <th>995</th>\n",
              "      <td>66.50</td>\n",
              "      <td>65.36</td>\n",
              "      <td>63.69</td>\n",
              "      <td>62.25</td>\n",
              "      <td>65.65</td>\n",
              "      <td>67.50</td>\n",
              "      <td>68.54</td>\n",
              "    </tr>\n",
              "    <tr>\n",
              "      <th>996</th>\n",
              "      <td>65.36</td>\n",
              "      <td>63.69</td>\n",
              "      <td>62.25</td>\n",
              "      <td>65.65</td>\n",
              "      <td>67.50</td>\n",
              "      <td>68.54</td>\n",
              "      <td>67.42</td>\n",
              "    </tr>\n",
              "    <tr>\n",
              "      <th>997</th>\n",
              "      <td>63.69</td>\n",
              "      <td>62.25</td>\n",
              "      <td>65.65</td>\n",
              "      <td>67.50</td>\n",
              "      <td>68.54</td>\n",
              "      <td>67.42</td>\n",
              "      <td>68.84</td>\n",
              "    </tr>\n",
              "    <tr>\n",
              "      <th>998</th>\n",
              "      <td>62.25</td>\n",
              "      <td>65.65</td>\n",
              "      <td>67.50</td>\n",
              "      <td>68.54</td>\n",
              "      <td>67.42</td>\n",
              "      <td>68.84</td>\n",
              "      <td>69.28</td>\n",
              "    </tr>\n",
              "  </tbody>\n",
              "</table>\n",
              "<p>999 rows × 7 columns</p>\n",
              "</div>"
            ],
            "text/plain": [
              "         0      1      2      3      4      5      6\n",
              "0    47.65  46.40  46.46  45.96  47.26  47.32  48.63\n",
              "1    46.40  46.46  45.96  47.26  47.32  48.63  49.13\n",
              "2    46.46  45.96  47.26  47.32  48.63  49.13  49.10\n",
              "3    45.96  47.26  47.32  48.63  49.13  49.10  47.44\n",
              "4    47.26  47.32  48.63  49.13  49.10  47.44  48.06\n",
              "..     ...    ...    ...    ...    ...    ...    ...\n",
              "994  67.44  66.50  65.36  63.69  62.25  65.65  67.50\n",
              "995  66.50  65.36  63.69  62.25  65.65  67.50  68.54\n",
              "996  65.36  63.69  62.25  65.65  67.50  68.54  67.42\n",
              "997  63.69  62.25  65.65  67.50  68.54  67.42  68.84\n",
              "998  62.25  65.65  67.50  68.54  67.42  68.84  69.28\n",
              "\n",
              "[999 rows x 7 columns]"
            ]
          },
          "metadata": {},
          "execution_count": 26
        }
      ]
    },
    {
      "cell_type": "code",
      "metadata": {
        "colab": {
          "base_uri": "https://localhost:8080/",
          "height": 359
        },
        "id": "f1HSHZ9XFPlS",
        "outputId": "80ebc2bb-30dd-46e5-d283-93ebb99feffa"
      },
      "source": [
        "series.head(10)"
      ],
      "execution_count": null,
      "outputs": [
        {
          "output_type": "execute_result",
          "data": {
            "text/html": [
              "<div>\n",
              "<style scoped>\n",
              "    .dataframe tbody tr th:only-of-type {\n",
              "        vertical-align: middle;\n",
              "    }\n",
              "\n",
              "    .dataframe tbody tr th {\n",
              "        vertical-align: top;\n",
              "    }\n",
              "\n",
              "    .dataframe thead th {\n",
              "        text-align: right;\n",
              "    }\n",
              "</style>\n",
              "<table border=\"1\" class=\"dataframe\">\n",
              "  <thead>\n",
              "    <tr style=\"text-align: right;\">\n",
              "      <th></th>\n",
              "      <th>Prices</th>\n",
              "    </tr>\n",
              "  </thead>\n",
              "  <tbody>\n",
              "    <tr>\n",
              "      <th>0</th>\n",
              "      <td>47.65</td>\n",
              "    </tr>\n",
              "    <tr>\n",
              "      <th>1</th>\n",
              "      <td>46.40</td>\n",
              "    </tr>\n",
              "    <tr>\n",
              "      <th>2</th>\n",
              "      <td>46.46</td>\n",
              "    </tr>\n",
              "    <tr>\n",
              "      <th>3</th>\n",
              "      <td>45.96</td>\n",
              "    </tr>\n",
              "    <tr>\n",
              "      <th>4</th>\n",
              "      <td>47.26</td>\n",
              "    </tr>\n",
              "    <tr>\n",
              "      <th>5</th>\n",
              "      <td>47.32</td>\n",
              "    </tr>\n",
              "    <tr>\n",
              "      <th>6</th>\n",
              "      <td>48.63</td>\n",
              "    </tr>\n",
              "    <tr>\n",
              "      <th>7</th>\n",
              "      <td>49.13</td>\n",
              "    </tr>\n",
              "    <tr>\n",
              "      <th>8</th>\n",
              "      <td>49.10</td>\n",
              "    </tr>\n",
              "    <tr>\n",
              "      <th>9</th>\n",
              "      <td>47.44</td>\n",
              "    </tr>\n",
              "  </tbody>\n",
              "</table>\n",
              "</div>"
            ],
            "text/plain": [
              "   Prices\n",
              "0   47.65\n",
              "1   46.40\n",
              "2   46.46\n",
              "3   45.96\n",
              "4   47.26\n",
              "5   47.32\n",
              "6   48.63\n",
              "7   49.13\n",
              "8   49.10\n",
              "9   47.44"
            ]
          },
          "metadata": {},
          "execution_count": 28
        }
      ]
    },
    {
      "cell_type": "code",
      "metadata": {
        "colab": {
          "base_uri": "https://localhost:8080/",
          "height": 1000
        },
        "id": "BYDnJqzRF3GL",
        "outputId": "f82b7c3f-bf69-493f-d969-489861698f0c"
      },
      "source": [
        "# evaluate\n",
        "mae, y, yhat = walk_forward_validation(data, 400)\n",
        "print('MAE: %.3f' % mae)\n",
        "# plot expected vs preducted\n",
        "pyplot.plot(y, label='Expected')\n",
        "pyplot.plot(yhat, label='Predicted')\n",
        "pyplot.legend()\n",
        "pyplot.show()"
      ],
      "execution_count": null,
      "outputs": [
        {
          "output_type": "stream",
          "name": "stderr",
          "text": [
            "/usr/local/lib/python3.7/dist-packages/xgboost/core.py:613: UserWarning: Use subset (sliced data) of np.ndarray is not recommended because it will generate extra copies and increase memory consumption\n",
            "  warnings.warn(\"Use subset (sliced data) of np.ndarray is not recommended \" +\n"
          ]
        },
        {
          "output_type": "stream",
          "name": "stdout",
          "text": [
            ">expected=53.3, predicted=53.8\n",
            ">expected=52.2, predicted=53.2\n",
            ">expected=51.6, predicted=52.9\n",
            ">expected=50.1, predicted=51.9\n",
            ">expected=49.6, predicted=51.1\n",
            ">expected=50.9, predicted=49.0\n",
            ">expected=50.9, predicted=51.3\n",
            ">expected=50.3, predicted=50.5\n",
            ">expected=49.6, predicted=51.2\n",
            ">expected=50.0, predicted=50.6\n",
            ">expected=51.1, predicted=50.5\n",
            ">expected=51.4, predicted=50.7\n",
            ">expected=52.0, predicted=51.0\n",
            ">expected=52.1, predicted=52.0\n",
            ">expected=53.3, predicted=52.0\n",
            ">expected=53.8, predicted=52.1\n",
            ">expected=53.4, predicted=54.2\n",
            ">expected=51.4, predicted=53.6\n",
            ">expected=49.8, predicted=51.3\n",
            ">expected=48.7, predicted=48.5\n",
            ">expected=47.2, predicted=48.6\n",
            ">expected=44.8, predicted=47.9\n",
            ">expected=46.8, predicted=45.3\n",
            ">expected=47.3, predicted=46.8\n",
            ">expected=46.8, predicted=47.6\n",
            ">expected=45.9, predicted=47.7\n",
            ">expected=41.1, predicted=46.1\n",
            ">expected=31.1, predicted=46.3\n",
            ">expected=34.5, predicted=31.9\n",
            ">expected=33.1, predicted=34.1\n",
            ">expected=31.6, predicted=34.2\n",
            ">expected=31.7, predicted=32.2\n",
            ">expected=29.0, predicted=31.7\n",
            ">expected=27.0, predicted=29.3\n",
            ">expected=20.5, predicted=27.0\n",
            ">expected=25.1, predicted=20.8\n",
            ">expected=19.5, predicted=22.7\n",
            ">expected=23.3, predicted=22.2\n",
            ">expected=21.0, predicted=19.9\n",
            ">expected=20.8, predicted=23.1\n",
            ">expected=16.6, predicted=21.9\n",
            ">expected=15.5, predicted=21.2\n",
            ">expected=14.1, predicted=17.1\n",
            ">expected=20.5, predicted=15.6\n",
            ">expected=20.3, predicted=17.7\n",
            ">expected=25.2, predicted=15.3\n",
            ">expected=28.4, predicted=18.8\n",
            ">expected=26.2, predicted=27.2\n",
            ">expected=23.5, predicted=21.1\n",
            ">expected=25.0, predicted=19.0\n",
            ">expected=22.9, predicted=18.2\n",
            ">expected=22.4, predicted=22.8\n",
            ">expected=20.1, predicted=20.2\n",
            ">expected=20.0, predicted=19.5\n",
            ">expected=19.8, predicted=20.1\n",
            ">expected=18.3, predicted=21.4\n",
            ">expected=-37.0, predicted=18.9\n",
            ">expected=8.9, predicted=-24.0\n",
            ">expected=13.6, predicted=10.4\n",
            ">expected=15.1, predicted=14.3\n",
            ">expected=16.0, predicted=18.4\n",
            ">expected=12.2, predicted=17.6\n",
            ">expected=12.4, predicted=16.2\n",
            ">expected=15.0, predicted=13.7\n",
            ">expected=19.2, predicted=15.7\n",
            ">expected=19.7, predicted=23.4\n",
            ">expected=20.5, predicted=22.4\n",
            ">expected=24.6, predicted=17.1\n",
            ">expected=23.9, predicted=22.5\n",
            ">expected=23.7, predicted=24.3\n",
            ">expected=24.7, predicted=24.9\n",
            ">expected=24.0, predicted=23.3\n",
            ">expected=25.8, predicted=23.1\n",
            ">expected=25.4, predicted=23.3\n",
            ">expected=27.4, predicted=24.4\n",
            ">expected=29.4, predicted=25.8\n",
            ">expected=31.8, predicted=28.4\n",
            ">expected=32.3, predicted=29.9\n",
            ">expected=33.6, predicted=31.0\n",
            ">expected=34.3, predicted=32.7\n",
            ">expected=33.5, predicted=32.8\n",
            ">expected=34.7, predicted=32.8\n",
            ">expected=32.8, predicted=34.4\n",
            ">expected=33.7, predicted=32.6\n",
            ">expected=35.6, predicted=33.8\n",
            ">expected=35.5, predicted=31.0\n",
            ">expected=36.9, predicted=35.2\n",
            ">expected=37.3, predicted=33.0\n",
            ">expected=37.4, predicted=37.1\n",
            ">expected=39.5, predicted=37.5\n",
            ">expected=38.2, predicted=36.9\n",
            ">expected=39.0, predicted=38.1\n",
            ">expected=39.5, predicted=38.4\n",
            ">expected=36.4, predicted=38.9\n",
            ">expected=36.2, predicted=38.0\n",
            ">expected=37.1, predicted=36.5\n",
            ">expected=38.3, predicted=36.7\n",
            ">expected=37.9, predicted=38.2\n",
            ">expected=38.8, predicted=38.1\n",
            ">expected=39.7, predicted=39.0\n",
            ">expected=40.6, predicted=38.0\n",
            ">expected=40.4, predicted=39.0\n",
            ">expected=37.9, predicted=39.3\n",
            ">expected=38.7, predicted=37.8\n",
            ">expected=38.5, predicted=38.3\n",
            ">expected=39.7, predicted=38.5\n",
            ">expected=39.3, predicted=39.1\n",
            ">expected=39.9, predicted=37.7\n",
            ">expected=40.6, predicted=38.6\n",
            ">expected=40.5, predicted=39.3\n",
            ">expected=40.6, predicted=39.7\n",
            ">expected=40.9, predicted=40.3\n",
            ">expected=39.6, predicted=40.2\n",
            ">expected=40.6, predicted=39.1\n",
            ">expected=40.1, predicted=40.1\n",
            ">expected=40.3, predicted=39.8\n",
            ">expected=41.2, predicted=40.1\n",
            ">expected=40.7, predicted=39.9\n",
            ">expected=40.5, predicted=40.5\n",
            ">expected=40.8, predicted=40.2\n",
            ">expected=41.8, predicted=40.4\n",
            ">expected=41.9, predicted=41.7\n",
            ">expected=41.0, predicted=41.8\n",
            ">expected=41.2, predicted=39.7\n",
            ">expected=41.5, predicted=41.5\n",
            ">expected=40.9, predicted=41.6\n",
            ">expected=41.1, predicted=40.2\n",
            ">expected=39.9, predicted=40.3\n",
            ">expected=40.1, predicted=40.3\n",
            ">expected=40.8, predicted=40.3\n",
            ">expected=41.7, predicted=40.6\n",
            ">expected=42.2, predicted=41.5\n",
            ">expected=41.9, predicted=41.7\n",
            ">expected=41.2, predicted=42.2\n",
            ">expected=41.9, predicted=39.9\n",
            ">expected=41.5, predicted=42.1\n",
            ">expected=42.6, predicted=41.2\n",
            ">expected=42.3, predicted=42.5\n",
            ">expected=42.0, predicted=42.7\n",
            ">expected=42.9, predicted=42.0\n",
            ">expected=42.9, predicted=42.7\n",
            ">expected=42.9, predicted=43.2\n",
            ">expected=42.6, predicted=43.3\n",
            ">expected=42.3, predicted=42.4\n",
            ">expected=42.4, predicted=42.3\n",
            ">expected=43.2, predicted=42.4\n",
            ">expected=43.2, predicted=43.0\n",
            ">expected=42.9, predicted=43.3\n",
            ">expected=43.0, predicted=42.9\n",
            ">expected=42.6, predicted=42.8\n",
            ">expected=42.8, predicted=42.6\n",
            ">expected=42.8, predicted=42.6\n",
            ">expected=41.4, predicted=42.8\n",
            ">expected=39.7, predicted=41.1\n",
            ">expected=36.9, predicted=39.9\n",
            ">expected=38.0, predicted=37.2\n",
            ">expected=37.2, predicted=38.3\n",
            ">expected=37.3, predicted=37.6\n",
            ">expected=37.2, predicted=37.7\n",
            ">expected=38.3, predicted=38.5\n",
            ">expected=40.2, predicted=38.7\n",
            ">expected=41.0, predicted=40.0\n",
            ">expected=41.1, predicted=39.7\n",
            ">expected=39.3, predicted=39.1\n",
            ">expected=39.5, predicted=38.7\n",
            ">expected=39.9, predicted=38.1\n",
            ">expected=40.1, predicted=40.9\n",
            ">expected=40.1, predicted=40.8\n",
            ">expected=40.5, predicted=40.5\n",
            ">expected=39.0, predicted=40.5\n",
            ">expected=40.0, predicted=39.4\n",
            ">expected=38.5, predicted=40.5\n",
            ">expected=36.9, predicted=39.3\n",
            ">expected=39.1, predicted=38.7\n",
            ">expected=40.5, predicted=39.1\n",
            ">expected=39.8, predicted=39.5\n",
            ">expected=41.0, predicted=40.0\n",
            ">expected=40.4, predicted=38.0\n",
            ">expected=39.2, predicted=40.1\n",
            ">expected=40.0, predicted=40.1\n",
            ">expected=40.9, predicted=39.1\n",
            ">expected=40.8, predicted=40.5\n",
            ">expected=40.7, predicted=40.7\n",
            ">expected=40.7, predicted=40.5\n",
            ">expected=41.4, predicted=40.5\n",
            ">expected=39.9, predicted=41.9\n",
            ">expected=40.5, predicted=39.5\n",
            ">expected=39.7, predicted=40.3\n",
            ">expected=38.4, predicted=40.9\n",
            ">expected=39.3, predicted=38.9\n",
            ">expected=37.3, predicted=38.5\n",
            ">expected=35.9, predicted=39.0\n",
            ">expected=35.6, predicted=37.2\n",
            ">expected=36.6, predicted=36.9\n",
            ">expected=37.4, predicted=36.8\n",
            ">expected=39.0, predicted=38.8\n",
            ">expected=38.6, predicted=39.4\n",
            ">expected=37.0, predicted=37.8\n",
            ">expected=40.0, predicted=38.3\n",
            ">expected=41.2, predicted=40.5\n",
            ">expected=41.2, predicted=40.7\n",
            ">expected=40.9, predicted=41.2\n",
            ">expected=39.9, predicted=40.2\n",
            ">expected=41.1, predicted=40.3\n",
            ">expected=41.2, predicted=40.4\n",
            ">expected=41.6, predicted=41.2\n",
            ">expected=41.6, predicted=41.9\n",
            ">expected=42.0, predicted=41.9\n",
            ">expected=42.9, predicted=41.8\n",
            ">expected=44.7, predicted=43.1\n",
            ">expected=45.6, predicted=44.9\n",
            ">expected=45.2, predicted=45.2\n",
            ">expected=44.5, predicted=45.1\n",
            ">expected=45.2, predicted=45.2\n",
            ">expected=45.6, predicted=45.2\n",
            ">expected=46.2, predicted=45.4\n",
            ">expected=45.7, predicted=46.7\n",
            ">expected=45.6, predicted=44.2\n",
            ">expected=45.5, predicted=44.9\n",
            ">expected=46.8, predicted=45.8\n",
            ">expected=46.6, predicted=47.1\n",
            ">expected=47.0, predicted=46.7\n",
            ">expected=47.6, predicted=46.7\n",
            ">expected=47.9, predicted=47.7\n",
            ">expected=48.3, predicted=48.1\n",
            ">expected=49.0, predicted=48.2\n",
            ">expected=47.8, predicted=48.7\n",
            ">expected=47.0, predicted=47.3\n",
            ">expected=47.9, predicted=46.4\n",
            ">expected=48.2, predicted=47.7\n",
            ">expected=47.5, predicted=49.0\n",
            ">expected=47.9, predicted=47.8\n",
            ">expected=48.2, predicted=47.3\n",
            ">expected=48.4, predicted=48.6\n",
            ">expected=47.5, predicted=49.2\n",
            ">expected=49.8, predicted=47.4\n",
            ">expected=50.5, predicted=49.9\n",
            ">expected=50.6, predicted=50.7\n",
            ">expected=52.1, predicted=50.8\n",
            ">expected=52.1, predicted=52.1\n",
            ">expected=53.1, predicted=52.3\n",
            ">expected=52.8, predicted=53.5\n",
            ">expected=53.5, predicted=52.2\n",
            ">expected=52.2, predicted=51.9\n",
            ">expected=52.9, predicted=52.4\n",
            ">expected=53.2, predicted=53.0\n",
            ">expected=53.0, predicted=53.2\n",
            ">expected=52.3, predicted=53.1\n",
            ">expected=52.8, predicted=52.4\n",
            ">expected=52.6, predicted=53.3\n",
            ">expected=52.8, predicted=52.7\n",
            ">expected=52.3, predicted=53.2\n",
            ">expected=52.2, predicted=52.9\n",
            ">expected=53.5, predicted=52.3\n",
            ">expected=54.8, predicted=53.3\n",
            ">expected=55.7, predicted=55.9\n",
            ">expected=56.2, predicted=55.4\n",
            ">expected=56.8, predicted=56.3\n",
            ">expected=58.0, predicted=56.3\n",
            ">expected=58.3, predicted=58.6\n",
            ">expected=58.7, predicted=57.6\n",
            ">expected=58.2, predicted=59.0\n",
            ">expected=59.5, predicted=58.1\n",
            ">expected=60.1, predicted=59.1\n",
            ">expected=61.1, predicted=59.7\n",
            ">expected=60.4, predicted=60.7\n",
            ">expected=59.1, predicted=61.0\n",
            ">expected=61.7, predicted=59.7\n",
            ">expected=61.7, predicted=61.1\n",
            ">expected=63.2, predicted=61.3\n",
            ">expected=63.4, predicted=62.3\n",
            ">expected=61.5, predicted=62.9\n",
            ">expected=60.5, predicted=62.1\n",
            ">expected=59.7, predicted=60.9\n",
            ">expected=61.3, predicted=59.9\n",
            ">expected=63.8, predicted=60.1\n",
            ">expected=66.1, predicted=64.1\n",
            ">expected=65.0, predicted=65.3\n",
            ">expected=64.0, predicted=64.2\n",
            ">expected=64.5, predicted=63.7\n",
            ">expected=66.0, predicted=65.0\n",
            ">expected=65.6, predicted=65.5\n",
            ">expected=65.4, predicted=65.3\n",
            ">expected=64.8, predicted=64.5\n",
            ">expected=64.5, predicted=64.4\n",
            ">expected=60.0, predicted=64.1\n",
            ">expected=61.4, predicted=57.7\n",
            ">expected=61.5, predicted=60.0\n",
            ">expected=57.8, predicted=62.1\n",
            ">expected=61.1, predicted=58.8\n",
            ">expected=58.5, predicted=61.2\n",
            ">expected=60.9, predicted=60.2\n",
            ">expected=61.5, predicted=59.1\n",
            ">expected=60.5, predicted=59.4\n",
            ">expected=59.2, predicted=61.2\n",
            ">expected=61.4, predicted=59.5\n",
            ">expected=58.7, predicted=60.9\n",
            ">expected=59.3, predicted=61.0\n",
            ">expected=59.8, predicted=59.0\n",
            ">expected=59.6, predicted=60.3\n",
            ">expected=59.3, predicted=60.1\n",
            ">expected=59.7, predicted=59.8\n",
            ">expected=60.2, predicted=59.9\n",
            ">expected=63.1, predicted=61.6\n",
            ">expected=63.4, predicted=62.9\n",
            ">expected=63.2, predicted=62.6\n",
            ">expected=63.3, predicted=62.3\n",
            ">expected=62.6, predicted=63.0\n",
            ">expected=61.3, predicted=63.3\n",
            ">expected=61.5, predicted=59.6\n",
            ">expected=62.2, predicted=60.9\n",
            ">expected=62.0, predicted=62.5\n",
            ">expected=63.0, predicted=62.2\n",
            ">expected=63.8, predicted=62.9\n",
            ">expected=65.0, predicted=64.4\n",
            ">expected=63.5, predicted=64.5\n",
            ">expected=64.5, predicted=63.1\n",
            ">expected=65.7, predicted=64.3\n",
            ">expected=65.6, predicted=65.5\n",
            ">expected=64.7, predicted=66.0\n",
            ">expected=65.0, predicted=64.9\n",
            ">expected=64.9, predicted=63.7\n",
            ">expected=65.3, predicted=63.2\n",
            ">expected=66.0, predicted=65.7\n",
            ">expected=63.8, predicted=66.2\n",
            ">expected=65.3, predicted=63.7\n",
            ">expected=66.2, predicted=64.6\n",
            ">expected=65.5, predicted=67.0\n",
            ">expected=63.3, predicted=65.6\n",
            ">expected=62.0, predicted=62.1\n",
            ">expected=63.6, predicted=62.1\n",
            ">expected=66.1, predicted=64.5\n",
            ">expected=66.3, predicted=66.2\n",
            ">expected=66.4, predicted=66.2\n",
            ">expected=66.9, predicted=66.3\n",
            ">expected=66.3, predicted=65.8\n",
            ">expected=67.8, predicted=65.9\n",
            ">expected=68.8, predicted=67.2\n",
            ">expected=68.8, predicted=68.9\n",
            ">expected=69.6, predicted=69.2\n",
            ">expected=69.2, predicted=70.1\n",
            ">expected=70.1, predicted=68.1\n",
            ">expected=69.9, predicted=70.1\n",
            ">expected=70.3, predicted=70.3\n",
            ">expected=71.0, predicted=70.1\n",
            ">expected=70.9, predicted=71.1\n",
            ">expected=72.1, predicted=70.8\n",
            ">expected=72.0, predicted=72.5\n",
            ">expected=71.1, predicted=71.8\n",
            ">expected=71.6, predicted=71.0\n",
            ">expected=73.6, predicted=70.4\n",
            ">expected=73.2, predicted=75.0\n",
            ">expected=73.1, predicted=72.2\n",
            ">expected=73.3, predicted=72.9\n",
            ">expected=74.2, predicted=73.7\n",
            ">expected=73.0, predicted=73.3\n",
            ">expected=73.1, predicted=71.9\n",
            ">expected=73.5, predicted=73.8\n",
            ">expected=75.3, predicted=74.0\n",
            ">expected=75.4, predicted=74.8\n",
            ">expected=73.6, predicted=73.6\n",
            ">expected=72.2, predicted=73.6\n",
            ">expected=73.0, predicted=73.1\n",
            ">expected=74.6, predicted=74.0\n",
            ">expected=74.2, predicted=74.7\n",
            ">expected=75.2, predicted=72.2\n",
            ">expected=73.1, predicted=76.0\n",
            ">expected=71.7, predicted=73.3\n",
            ">expected=71.8, predicted=72.1\n",
            ">expected=66.5, predicted=71.7\n",
            ">expected=67.3, predicted=66.4\n",
            ">expected=70.3, predicted=67.3\n",
            ">expected=72.2, predicted=69.7\n",
            ">expected=72.2, predicted=71.0\n",
            ">expected=72.2, predicted=71.5\n",
            ">expected=71.7, predicted=72.9\n",
            ">expected=72.4, predicted=71.5\n",
            ">expected=73.6, predicted=72.7\n",
            ">expected=73.9, predicted=72.7\n",
            ">expected=71.3, predicted=73.8\n",
            ">expected=70.6, predicted=70.5\n",
            ">expected=68.2, predicted=69.8\n",
            ">expected=69.1, predicted=68.8\n",
            ">expected=68.3, predicted=68.5\n",
            ">expected=66.6, predicted=67.8\n",
            ">expected=68.3, predicted=66.8\n",
            ">expected=69.3, predicted=68.3\n",
            ">expected=69.1, predicted=70.5\n",
            ">expected=68.4, predicted=68.1\n",
            ">expected=67.4, predicted=68.6\n",
            ">expected=66.5, predicted=68.0\n",
            ">expected=65.4, predicted=67.3\n",
            ">expected=63.7, predicted=65.4\n",
            ">expected=62.2, predicted=63.3\n",
            ">expected=65.7, predicted=61.3\n",
            ">expected=67.5, predicted=67.0\n",
            ">expected=68.5, predicted=66.8\n",
            ">expected=67.4, predicted=70.0\n",
            ">expected=68.8, predicted=66.5\n",
            ">expected=69.3, predicted=69.5\n",
            "MAE: 1.560\n"
          ]
        },
        {
          "output_type": "display_data",
          "data": {
            "image/png": "[encoded data removed]",
            "text/plain": [
              "<Figure size 432x288 with 1 Axes>"
            ]
          },
          "metadata": {
            "needs_background": "light"
          }
        }
      ]
    },
    {
      "cell_type": "code",
      "metadata": {
        "colab": {
          "base_uri": "https://localhost:8080/"
        },
        "id": "wiAHvji4HI-j",
        "outputId": "49041632-46c4-4a9d-f61c-f242119b14ac"
      },
      "source": [
        "train = series_to_supervised(values, n_in=6)\n",
        "# split into input and output columns\n",
        "trainX, trainy = train[:, :-1], train[:, -1]\n",
        "# fit model\n",
        "model = XGBRegressor(objective='reg:squarederror', n_estimators=1000)\n",
        "model.fit(trainX, trainy)\n",
        "# construct an input for a new preduction\n",
        "row = values[-6:].flatten()\n",
        "# make a one-step prediction\n",
        "yhat = model.predict(asarray([row]))\n",
        "print('Input: %s, Predicted: %.3f' % (row, yhat[0]))"
      ],
      "execution_count": null,
      "outputs": [
        {
          "output_type": "stream",
          "name": "stdout",
          "text": [
            "Input: [65.65 67.5  68.54 67.42 68.84 69.28], Predicted: 70.496\n"
          ]
        }
      ]
    },
    {
      "cell_type": "code",
      "metadata": {
        "colab": {
          "base_uri": "https://localhost:8080/",
          "height": 204
        },
        "id": "QP2RzVsZHfRU",
        "outputId": "78418400-4cbe-4712-92b4-cfdce6c6da37"
      },
      "source": [
        "series.tail()"
      ],
      "execution_count": null,
      "outputs": [
        {
          "output_type": "execute_result",
          "data": {
            "text/html": [
              "<div>\n",
              "<style scoped>\n",
              "    .dataframe tbody tr th:only-of-type {\n",
              "        vertical-align: middle;\n",
              "    }\n",
              "\n",
              "    .dataframe tbody tr th {\n",
              "        vertical-align: top;\n",
              "    }\n",
              "\n",
              "    .dataframe thead th {\n",
              "        text-align: right;\n",
              "    }\n",
              "</style>\n",
              "<table border=\"1\" class=\"dataframe\">\n",
              "  <thead>\n",
              "    <tr style=\"text-align: right;\">\n",
              "      <th></th>\n",
              "      <th>Prices</th>\n",
              "    </tr>\n",
              "  </thead>\n",
              "  <tbody>\n",
              "    <tr>\n",
              "      <th>1000</th>\n",
              "      <td>67.50</td>\n",
              "    </tr>\n",
              "    <tr>\n",
              "      <th>1001</th>\n",
              "      <td>68.54</td>\n",
              "    </tr>\n",
              "    <tr>\n",
              "      <th>1002</th>\n",
              "      <td>67.42</td>\n",
              "    </tr>\n",
              "    <tr>\n",
              "      <th>1003</th>\n",
              "      <td>68.84</td>\n",
              "    </tr>\n",
              "    <tr>\n",
              "      <th>1004</th>\n",
              "      <td>69.28</td>\n",
              "    </tr>\n",
              "  </tbody>\n",
              "</table>\n",
              "</div>"
            ],
            "text/plain": [
              "      Prices\n",
              "1000   67.50\n",
              "1001   68.54\n",
              "1002   67.42\n",
              "1003   68.84\n",
              "1004   69.28"
            ]
          },
          "metadata": {},
          "execution_count": 32
        }
      ]
    },
    {
      "cell_type": "code",
      "metadata": {
        "id": "KxuRQWUXH_Z5"
      },
      "source": [
        "row = [72.15,71.68,72.37,73.62,73.93,71.31\t]\n",
        "yhat = model.predict(asarray([row]))\n"
      ],
      "execution_count": null,
      "outputs": []
    },
    {
      "cell_type": "code",
      "metadata": {
        "colab": {
          "base_uri": "https://localhost:8080/"
        },
        "id": "gK_vIniMJXEx",
        "outputId": "de59783c-0bf1-4967-b732-43d28a8402c3"
      },
      "source": [
        "print('Input: %s, Predicted(August 3rd): %.3f' % (row, yhat[0]))"
      ],
      "execution_count": null,
      "outputs": [
        {
          "output_type": "stream",
          "name": "stdout",
          "text": [
            "Input: [72.15, 71.68, 72.37, 73.62, 73.93, 71.31], Predicted(August 3rd): 70.596\n"
          ]
        }
      ]
    },
    {
      "cell_type": "code",
      "metadata": {
        "colab": {
          "base_uri": "https://localhost:8080/",
          "height": 266
        },
        "id": "ZlQfbnZ6K3Gv",
        "outputId": "ac6be62e-c197-428e-c232-f64323682525"
      },
      "source": [
        "# load dataset\n",
        "pred_series = read_csv('/content/predict.csv',header=0,index_col=0,parse_dates=True)\n",
        "pred_values = pred_series.values\n",
        "# values\n",
        "# plot dataset\n",
        "pyplot.plot(pred_values)\n",
        "pyplot.show()"
      ],
      "execution_count": null,
      "outputs": [
        {
          "output_type": "display_data",
          "data": {
            "image/png": "[encoded data removed]",
            "text/plain": [
              "<Figure size 432x288 with 1 Axes>"
            ]
          },
          "metadata": {
            "needs_background": "light"
          }
        }
      ]
    },
    {
      "cell_type": "code",
      "metadata": {
        "colab": {
          "base_uri": "https://localhost:8080/"
        },
        "id": "UVjqG2UwLsz6",
        "outputId": "b1d237be-6ac7-4324-ad0c-7a042fedaf58"
      },
      "source": [
        "pred_data = series_to_supervised(pred_values, n_in=6)\n",
        "pred_data"
      ],
      "execution_count": null,
      "outputs": [
        {
          "output_type": "execute_result",
          "data": {
            "text/plain": [
              "array([[68.43, 68.63, 70.07, 69.34, 68.49, 69.36, 68.26],\n",
              "       [68.63, 70.07, 69.34, 68.49, 69.36, 68.26, 69.82],\n",
              "       [70.07, 69.34, 68.49, 69.36, 68.26, 69.82, 70.54],\n",
              "       [69.34, 68.49, 69.36, 68.26, 69.82, 70.54, 70.53],\n",
              "       [68.49, 69.36, 68.26, 69.82, 70.54, 70.53, 72.59],\n",
              "       [69.36, 68.26, 69.82, 70.54, 70.53, 72.59, 72.69],\n",
              "       [68.26, 69.82, 70.54, 70.53, 72.59, 72.69, 72.09],\n",
              "       [69.82, 70.54, 70.53, 72.59, 72.69, 72.09, 70.41],\n",
              "       [70.54, 70.53, 72.59, 72.69, 72.09, 70.41, 70.51],\n",
              "       [70.53, 72.59, 72.69, 72.09, 70.41, 70.51, 72.37],\n",
              "       [72.59, 72.69, 72.09, 70.41, 70.51, 72.37, 73.43],\n",
              "       [72.69, 72.09, 70.41, 70.51, 72.37, 73.43, 74.18],\n",
              "       [72.09, 70.41, 70.51, 72.37, 73.43, 74.18, 75.54],\n",
              "       [70.41, 70.51, 72.37, 73.43, 74.18, 75.54, 75.44],\n",
              "       [70.51, 72.37, 73.43, 74.18, 75.54, 75.44, 75.06],\n",
              "       [72.37, 73.43, 74.18, 75.54, 75.44, 75.06, 75.22],\n",
              "       [73.43, 74.18, 75.54, 75.44, 75.06, 75.22, 76.01],\n",
              "       [74.18, 75.54, 75.44, 75.06, 75.22, 76.01, 77.68]])"
            ]
          },
          "metadata": {},
          "execution_count": 41
        }
      ]
    },
    {
      "cell_type": "code",
      "metadata": {
        "colab": {
          "base_uri": "https://localhost:8080/"
        },
        "id": "QJDavCItManE",
        "outputId": "4b6253fc-33c1-4fc9-b4df-75e194d423b1"
      },
      "source": [
        "pred_input, true_values = pred_data[:, :-1], pred_data[:, -1]\n",
        "len(pred_input),len(true_values)"
      ],
      "execution_count": null,
      "outputs": [
        {
          "output_type": "execute_result",
          "data": {
            "text/plain": [
              "(18, 18)"
            ]
          },
          "metadata": {},
          "execution_count": 42
        }
      ]
    },
    {
      "cell_type": "code",
      "metadata": {
        "colab": {
          "base_uri": "https://localhost:8080/"
        },
        "id": "ifdBaqYrJI-R",
        "outputId": "e520a8ac-65ca-42df-c7a7-d33262c7f935"
      },
      "source": [
        "predicted = []\n",
        "for row in pred_input:\n",
        "  k = model.predict(asarray([row]))\n",
        "  predicted.append(k[0])\n",
        "predicted"
      ],
      "execution_count": null,
      "outputs": [
        {
          "output_type": "execute_result",
          "data": {
            "text/plain": [
              "[69.38765,\n",
              " 67.11713,\n",
              " 70.1835,\n",
              " 69.32726,\n",
              " 70.789024,\n",
              " 73.58457,\n",
              " 73.305984,\n",
              " 72.58673,\n",
              " 71.02812,\n",
              " 70.41099,\n",
              " 72.8925,\n",
              " 73.47759,\n",
              " 72.23394,\n",
              " 75.31145,\n",
              " 74.88252,\n",
              " 75.27914,\n",
              " 75.11127,\n",
              " 74.137024]"
            ]
          },
          "metadata": {},
          "execution_count": 46
        }
      ]
    },
    {
      "cell_type": "code",
      "metadata": {
        "colab": {
          "base_uri": "https://localhost:8080/"
        },
        "id": "P3n_AEQQNuuU",
        "outputId": "481fad1f-285c-4679-ef6c-68c070a30009"
      },
      "source": [
        "len(true_values),len(predicted)"
      ],
      "execution_count": null,
      "outputs": [
        {
          "output_type": "execute_result",
          "data": {
            "text/plain": [
              "(18, 18)"
            ]
          },
          "metadata": {},
          "execution_count": 50
        }
      ]
    },
    {
      "cell_type": "code",
      "metadata": {
        "colab": {
          "base_uri": "https://localhost:8080/",
          "height": 265
        },
        "id": "zugchf8WNBQd",
        "outputId": "0099bbc2-3f7e-482a-d947-3925d12ff8df"
      },
      "source": [
        "pyplot.plot(true_values)\n",
        "pyplot.plot(predicted)\n",
        "pyplot.show()"
      ],
      "execution_count": null,
      "outputs": [
        {
          "output_type": "display_data",
          "data": {
            "image/png": "[encoded data removed]",
            "text/plain": [
              "<Figure size 432x288 with 1 Axes>"
            ]
          },
          "metadata": {
            "needs_background": "light"
          }
        }
      ]
    },
    {
      "cell_type": "code",
      "metadata": {
        "colab": {
          "base_uri": "https://localhost:8080/"
        },
        "id": "NLpLFngnOGy8",
        "outputId": "b35f0863-78f6-40b1-e4ea-bd373278e51b"
      },
      "source": [
        "mean_absolute_error(true_values,predicted)"
      ],
      "execution_count": null,
      "outputs": [
        {
          "output_type": "execute_result",
          "data": {
            "text/plain": [
              "1.294888695610896"
            ]
          },
          "metadata": {},
          "execution_count": 51
        }
      ]
    },
    {
      "cell_type": "code",
      "metadata": {
        "colab": {
          "base_uri": "https://localhost:8080/"
        },
        "id": "XnD7NJBSOWak",
        "outputId": "c5fd8928-6058-4778-a851-389777313625"
      },
      "source": [
        "from sklearn.metrics import r2_score\n",
        "r2_score(true_values,predicted)"
      ],
      "execution_count": null,
      "outputs": [
        {
          "output_type": "execute_result",
          "data": {
            "text/plain": [
              "0.5610781894737575"
            ]
          },
          "metadata": {},
          "execution_count": 52
        }
      ]
    },
    {
      "cell_type": "code",
      "metadata": {
        "id": "v29f_EdMOqTE"
      },
      "source": [
        ""
      ],
      "execution_count": null,
      "outputs": []
    }
  ]
}