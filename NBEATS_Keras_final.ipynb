{
  "nbformat": 4,
  "nbformat_minor": 0,
  "metadata": {
    "colab": {
      "name": "NBEATS_Keras.ipynb",
      "provenance": [],
      "collapsed_sections": [],
      "mount_file_id": "1g4lktsNOa6F1paHpAbA9xAXTnNGm8xkx",
      "authorship_tag": "ABX9TyPadXk6c/KwSg5WP3QCnLwU",
      "include_colab_link": true
    },
    "kernelspec": {
      "name": "python3",
      "display_name": "Python 3"
    },
    "language_info": {
      "name": "python"
    }
  },
  "cells": [
    {
      "cell_type": "markdown",
      "metadata": {
        "id": "view-in-github",
        "colab_type": "text"
      },
      "source": [
        "<a href=\"https://colab.research.google.com/github/AimjGuytidy/WQU-Thesis/blob/main/NBEATS_Keras_final.ipynb\" target=\"_parent\"><img src=\"https://colab.research.google.com/assets/colab-badge.svg\" alt=\"Open In Colab\"/></a>"
      ]
    },
    {
      "cell_type": "code",
      "metadata": {
        "id": "u2LuBiArxR4O"
      },
      "source": [
        "%pip install --quiet nbeats-keras"
      ],
      "execution_count": 1,
      "outputs": []
    },
    {
      "cell_type": "code",
      "metadata": {
        "id": "I9EYzReDyE-6"
      },
      "source": [
        "import os\n",
        "\n",
        "import numpy as np\n",
        "import pandas as pd\n",
        "import tensorflow as tf\n",
        "from tensorflow.keras.callbacks import Callback\n",
        "\n",
        "from nbeats_keras.model import NBeatsNet"
      ],
      "execution_count": 2,
      "outputs": []
    },
    {
      "cell_type": "code",
      "metadata": {
        "id": "TsZq0bROyPhG"
      },
      "source": [
        "pd.set_option('display.max_rows', None)\n",
        "pd.set_option('display.max_columns', None)\n",
        "pd.set_option('display.width', None)"
      ],
      "execution_count": 3,
      "outputs": []
    },
    {
      "cell_type": "code",
      "metadata": {
        "colab": {
          "base_uri": "https://localhost:8080/"
        },
        "id": "iuGtazvhyVu2",
        "outputId": "b5d29683-c134-4c74-cb66-bd333c5c7a98"
      },
      "source": [
        "df = pd.read_csv('/content/oil.csv')\n",
        "print(df.head())\n",
        "print(len(df))"
      ],
      "execution_count": 4,
      "outputs": [
        {
          "output_type": "stream",
          "name": "stdout",
          "text": [
            "           Date  Price\n",
            "0  Aug 25, 2017  47.65\n",
            "1  Aug 28, 2017  46.40\n",
            "2  Aug 29, 2017  46.46\n",
            "3  Aug 30, 2017  45.96\n",
            "4  Aug 31, 2017  47.26\n",
            "1005\n"
          ]
        }
      ]
    },
    {
      "cell_type": "code",
      "metadata": {
        "colab": {
          "base_uri": "https://localhost:8080/",
          "height": 204
        },
        "id": "um38d-AXylIv",
        "outputId": "2642f3eb-f4bd-439a-cc82-288b25e6eaaf"
      },
      "source": [
        "df['Date'] = pd.to_datetime(df['Date'])\n",
        "df.head()"
      ],
      "execution_count": 5,
      "outputs": [
        {
          "output_type": "execute_result",
          "data": {
            "text/html": [
              "<div>\n",
              "<style scoped>\n",
              "    .dataframe tbody tr th:only-of-type {\n",
              "        vertical-align: middle;\n",
              "    }\n",
              "\n",
              "    .dataframe tbody tr th {\n",
              "        vertical-align: top;\n",
              "    }\n",
              "\n",
              "    .dataframe thead th {\n",
              "        text-align: right;\n",
              "    }\n",
              "</style>\n",
              "<table border=\"1\" class=\"dataframe\">\n",
              "  <thead>\n",
              "    <tr style=\"text-align: right;\">\n",
              "      <th></th>\n",
              "      <th>Date</th>\n",
              "      <th>Price</th>\n",
              "    </tr>\n",
              "  </thead>\n",
              "  <tbody>\n",
              "    <tr>\n",
              "      <th>0</th>\n",
              "      <td>2017-08-25</td>\n",
              "      <td>47.65</td>\n",
              "    </tr>\n",
              "    <tr>\n",
              "      <th>1</th>\n",
              "      <td>2017-08-28</td>\n",
              "      <td>46.40</td>\n",
              "    </tr>\n",
              "    <tr>\n",
              "      <th>2</th>\n",
              "      <td>2017-08-29</td>\n",
              "      <td>46.46</td>\n",
              "    </tr>\n",
              "    <tr>\n",
              "      <th>3</th>\n",
              "      <td>2017-08-30</td>\n",
              "      <td>45.96</td>\n",
              "    </tr>\n",
              "    <tr>\n",
              "      <th>4</th>\n",
              "      <td>2017-08-31</td>\n",
              "      <td>47.26</td>\n",
              "    </tr>\n",
              "  </tbody>\n",
              "</table>\n",
              "</div>"
            ],
            "text/plain": [
              "        Date  Price\n",
              "0 2017-08-25  47.65\n",
              "1 2017-08-28  46.40\n",
              "2 2017-08-29  46.46\n",
              "3 2017-08-30  45.96\n",
              "4 2017-08-31  47.26"
            ]
          },
          "metadata": {},
          "execution_count": 5
        }
      ]
    },
    {
      "cell_type": "code",
      "metadata": {
        "colab": {
          "base_uri": "https://localhost:8080/"
        },
        "id": "PT-weXEMypxG",
        "outputId": "6fe6bd92-f7f4-4fe4-9101-2d3381c39863"
      },
      "source": [
        "df.values.flatten()"
      ],
      "execution_count": 6,
      "outputs": [
        {
          "output_type": "execute_result",
          "data": {
            "text/plain": [
              "array([Timestamp('2017-08-25 00:00:00'), 47.65,\n",
              "       Timestamp('2017-08-28 00:00:00'), ..., 68.84,\n",
              "       Timestamp('2021-08-30 00:00:00'), 69.28], dtype=object)"
            ]
          },
          "metadata": {},
          "execution_count": 6
        }
      ]
    },
    {
      "cell_type": "code",
      "metadata": {
        "id": "6lRp09Qdzh9b"
      },
      "source": [
        "def univariate_data(dataset, start_index, end_index, history_size, target_size):\n",
        "    data = []\n",
        "    labels = []\n",
        "\n",
        "    start_index = start_index + history_size\n",
        "    if end_index is None:\n",
        "        end_index = len(dataset) - target_size\n",
        "\n",
        "    for i in range(start_index, end_index):\n",
        "        indices = range(i - history_size, i)\n",
        "        # Reshape data from (history_size,) to (history_size, 1)\n",
        "        data.append(np.reshape(dataset[indices], (history_size, 1)))\n",
        "        labels.append(dataset[i + target_size])\n",
        "    data = np.array(data)\n",
        "    labels = np.array(labels)\n",
        "    return data.reshape(data.shape[0], data.shape[1], 1), labels.reshape(labels.shape[0], 1, 1)"
      ],
      "execution_count": 7,
      "outputs": []
    },
    {
      "cell_type": "code",
      "metadata": {
        "id": "BAaus1e00cp9"
      },
      "source": [
        "class DataNormalizer:\n",
        "\n",
        "    def __init__(self, train):\n",
        "        self.uni_train_mean = train.mean()\n",
        "        self.uni_train_std = train.std()\n",
        "\n",
        "    def apply(self, x):\n",
        "        return (x - self.uni_train_mean) / self.uni_train_std\n",
        "\n",
        "    def apply_inv(self, x):\n",
        "        return x * self.uni_train_std + self.uni_train_mean"
      ],
      "execution_count": 8,
      "outputs": []
    },
    {
      "cell_type": "code",
      "metadata": {
        "id": "C3NkY1160cZE"
      },
      "source": [
        ""
      ],
      "execution_count": 8,
      "outputs": []
    },
    {
      "cell_type": "code",
      "metadata": {
        "id": "RdL5Fn81z1nE"
      },
      "source": [
        "TRAIN_SPLIT = 805\n",
        "\n",
        "uni_data = df['Price']\n",
        "uni_data.index = df['Date']\n",
        "\n",
        "uni_data = uni_data.values"
      ],
      "execution_count": 9,
      "outputs": []
    },
    {
      "cell_type": "code",
      "metadata": {
        "colab": {
          "base_uri": "https://localhost:8080/"
        },
        "id": "tQ2LxHK70_AY",
        "outputId": "9f4172f6-964e-472d-ef58-431c5807768a"
      },
      "source": [
        "uni_data"
      ],
      "execution_count": 10,
      "outputs": [
        {
          "output_type": "execute_result",
          "data": {
            "text/plain": [
              "array([47.65, 46.4 , 46.46, ..., 67.42, 68.84, 69.28])"
            ]
          },
          "metadata": {},
          "execution_count": 10
        }
      ]
    },
    {
      "cell_type": "code",
      "metadata": {
        "colab": {
          "base_uri": "https://localhost:8080/"
        },
        "id": "TqnYfd851BG3",
        "outputId": "743016c1-4cbd-45fb-b7b6-2115d66f57b1"
      },
      "source": [
        "dn = DataNormalizer(train=uni_data[:TRAIN_SPLIT])\n",
        "uni_train_mean = uni_data[:TRAIN_SPLIT].mean()\n",
        "uni_train_std = uni_data[:TRAIN_SPLIT].std()\n",
        "\n",
        "uni_data = dn.apply(uni_data)\n",
        "\n",
        "univariate_past_history = 20\n",
        "univariate_future_target = 0\n",
        "\n",
        "x_train_uni, y_train_uni = univariate_data(uni_data, 0, TRAIN_SPLIT,\n",
        "                                           univariate_past_history,\n",
        "                                           univariate_future_target)\n",
        "x_val_uni, y_val_uni = univariate_data(uni_data, TRAIN_SPLIT, None,\n",
        "                                       univariate_past_history,\n",
        "                                       univariate_future_target)\n",
        "\n",
        "print('x_train_uni.shape=', x_train_uni.shape)\n",
        "print('y_train_uni.shape=', y_train_uni.shape)\n",
        "print('x_val_uni.shape=', x_val_uni.shape)\n",
        "print('y_val_uni.shape=', y_val_uni.shape)"
      ],
      "execution_count": 11,
      "outputs": [
        {
          "output_type": "stream",
          "name": "stdout",
          "text": [
            "x_train_uni.shape= (785, 20, 1)\n",
            "y_train_uni.shape= (785, 1, 1)\n",
            "x_val_uni.shape= (180, 20, 1)\n",
            "y_val_uni.shape= (180, 1, 1)\n"
          ]
        }
      ]
    },
    {
      "cell_type": "code",
      "metadata": {
        "colab": {
          "base_uri": "https://localhost:8080/"
        },
        "id": "V1THa02L1Ymt",
        "outputId": "48f650f7-ca2e-4da7-b19a-bf7bd0983521"
      },
      "source": [
        "b_val_uni = np.mean(x_val_uni, axis=1)[..., 0]\n",
        "print(np.mean(np.abs(b_val_uni - y_val_uni)))\n",
        "print(np.mean(np.abs(dn.apply_inv(b_val_uni) - dn.apply_inv(y_val_uni))))"
      ],
      "execution_count": 12,
      "outputs": [
        {
          "output_type": "stream",
          "name": "stdout",
          "text": [
            "0.70700408120963\n",
            "9.16352061728395\n"
          ]
        }
      ]
    },
    {
      "cell_type": "code",
      "metadata": {
        "colab": {
          "base_uri": "https://localhost:8080/"
        },
        "id": "EH4IqPvb1190",
        "outputId": "2e62b62a-23f8-45db-da13-492175f8873c"
      },
      "source": [
        "b2_val_uni = x_val_uni[:, -1, 0]\n",
        "print(np.mean(np.abs(b2_val_uni - y_val_uni)))\n",
        "print(np.mean(np.abs(dn.apply_inv(b2_val_uni) - dn.apply_inv(y_val_uni))))"
      ],
      "execution_count": 13,
      "outputs": [
        {
          "output_type": "stream",
          "name": "stdout",
          "text": [
            "0.6721394137540546\n",
            "8.711637654320988\n"
          ]
        }
      ]
    },
    {
      "cell_type": "code",
      "metadata": {
        "id": "KHys542i2JUN"
      },
      "source": [
        "m = NBeatsNet(\n",
        "    stack_types=(NBeatsNet.GENERIC_BLOCK, NBeatsNet.GENERIC_BLOCK, NBeatsNet.GENERIC_BLOCK),\n",
        "    nb_blocks_per_stack=3,\n",
        "    forecast_length=1,\n",
        "    backcast_length=univariate_past_history,\n",
        "    thetas_dim=(15, 15, 15),\n",
        "    share_weights_in_stack=False,\n",
        "    hidden_layer_units=384)\n",
        "m.compile(loss='mse', optimizer='adam')"
      ],
      "execution_count": 14,
      "outputs": []
    },
    {
      "cell_type": "code",
      "metadata": {
        "id": "A8p9sGqN2YXX"
      },
      "source": [
        "class EvaluateModelCallback(Callback):\n",
        "\n",
        "    def on_epoch_end(self, epoch, logs=None):\n",
        "        b3_val_uni = m.predict(x_val_uni)\n",
        "        print(f'[{epoch}] b3_val_uni.shape=', b3_val_uni.shape)\n",
        "        print(np.mean(np.abs(b3_val_uni - y_val_uni)))\n",
        "        print(np.mean(np.abs(dn.apply_inv(b3_val_uni) - dn.apply_inv(y_val_uni))))\n",
        "        print(f'MAPE:{np.mean(np.abs((dn.apply_inv(b3_val_uni) - dn.apply_inv(y_val_uni))/dn.apply_inv(y_val_uni)))}')\n",
        "        print(f'RMSE:{np.sqrt(np.mean(np.square(dn.apply_inv(b3_val_uni) - dn.apply_inv(y_val_uni))))}')\n",
        "        print('*' * 80)"
      ],
      "execution_count": 15,
      "outputs": []
    },
    {
      "cell_type": "code",
      "metadata": {
        "colab": {
          "base_uri": "https://localhost:8080/"
        },
        "id": "4BCMePYR2lyj",
        "outputId": "7d044b98-2b0f-4b63-ea1d-104fd8d9f95c"
      },
      "source": [
        "tf.random.set_seed(42)\n",
        "m.fit(x_train_uni, y_train_uni,\n",
        "      epochs=20, validation_split=0.1, shuffle=True,\n",
        "      callbacks=[EvaluateModelCallback()])"
      ],
      "execution_count": 16,
      "outputs": [
        {
          "output_type": "stream",
          "name": "stdout",
          "text": [
            "Epoch 1/20\n",
            "23/23 [==============================] - 5s 76ms/step - loss: 1.7056 - val_loss: 0.2784\n",
            "[0] b3_val_uni.shape= (180, 1, 1)\n",
            "0.18743463098909885\n",
            "2.429351564195421\n",
            "MAPE:0.03857475407618689\n",
            "RMSE:2.836685825915017\n",
            "********************************************************************************\n",
            "Epoch 2/20\n",
            "23/23 [==============================] - 1s 47ms/step - loss: 0.2443 - val_loss: 0.2725\n",
            "[1] b3_val_uni.shape= (180, 1, 1)\n",
            "0.21753507924817744\n",
            "2.8194833382500537\n",
            "MAPE:0.044999598060889046\n",
            "RMSE:3.495965155857441\n",
            "********************************************************************************\n",
            "Epoch 3/20\n",
            "23/23 [==============================] - 1s 48ms/step - loss: 0.1294 - val_loss: 0.1368\n",
            "[2] b3_val_uni.shape= (180, 1, 1)\n",
            "0.10348444510617748\n",
            "1.3412676060994468\n",
            "MAPE:0.021991395998979497\n",
            "RMSE:1.7561987361531954\n",
            "********************************************************************************\n",
            "Epoch 4/20\n",
            "23/23 [==============================] - 1s 49ms/step - loss: 0.0685 - val_loss: 0.0106\n",
            "[3] b3_val_uni.shape= (180, 1, 1)\n",
            "0.09553555936457672\n",
            "1.2382423756917318\n",
            "MAPE:0.01955841697181762\n",
            "RMSE:1.5872195655521892\n",
            "********************************************************************************\n",
            "Epoch 5/20\n",
            "23/23 [==============================] - 1s 48ms/step - loss: 0.0457 - val_loss: 0.0185\n",
            "[4] b3_val_uni.shape= (180, 1, 1)\n",
            "0.09448338541741766\n",
            "1.224604128519694\n",
            "MAPE:0.019319969433196117\n",
            "RMSE:1.6263658151919838\n",
            "********************************************************************************\n",
            "Epoch 6/20\n",
            "23/23 [==============================] - 1s 46ms/step - loss: 0.0429 - val_loss: 0.1281\n",
            "[5] b3_val_uni.shape= (180, 1, 1)\n",
            "0.11939572402747471\n",
            "1.5474948543972433\n",
            "MAPE:0.026162295189689457\n",
            "RMSE:2.0213340478061963\n",
            "********************************************************************************\n",
            "Epoch 7/20\n",
            "23/23 [==============================] - 1s 45ms/step - loss: 0.0462 - val_loss: 0.0097\n",
            "[6] b3_val_uni.shape= (180, 1, 1)\n",
            "0.10299080125012207\n",
            "1.334870395236545\n",
            "MAPE:0.02098796918478088\n",
            "RMSE:1.6419188996664782\n",
            "********************************************************************************\n",
            "Epoch 8/20\n",
            "23/23 [==============================] - 1s 48ms/step - loss: 0.0418 - val_loss: 0.0225\n",
            "[7] b3_val_uni.shape= (180, 1, 1)\n",
            "0.11918733959208233\n",
            "1.5447947497897683\n",
            "MAPE:0.02390832387617848\n",
            "RMSE:1.9044426376549903\n",
            "********************************************************************************\n",
            "Epoch 9/20\n",
            "23/23 [==============================] - 1s 47ms/step - loss: 0.0442 - val_loss: 0.2209\n",
            "[8] b3_val_uni.shape= (180, 1, 1)\n",
            "0.23975782356836042\n",
            "3.1075163226657447\n",
            "MAPE:0.048802510345517726\n",
            "RMSE:3.4989572584293582\n",
            "********************************************************************************\n",
            "Epoch 10/20\n",
            "23/23 [==============================] - 1s 47ms/step - loss: 0.0665 - val_loss: 0.0386\n",
            "[9] b3_val_uni.shape= (180, 1, 1)\n",
            "0.12007681122224857\n",
            "1.5563230446709528\n",
            "MAPE:0.02521075877154179\n",
            "RMSE:1.8964219776453666\n",
            "********************************************************************************\n",
            "Epoch 11/20\n",
            "23/23 [==============================] - 1s 47ms/step - loss: 0.0956 - val_loss: 0.0469\n",
            "[10] b3_val_uni.shape= (180, 1, 1)\n",
            "0.09379736598467867\n",
            "1.2157131144205728\n",
            "MAPE:0.01967338544319374\n",
            "RMSE:1.5367750374455056\n",
            "********************************************************************************\n",
            "Epoch 12/20\n",
            "23/23 [==============================] - 1s 46ms/step - loss: 0.0713 - val_loss: 0.0090\n",
            "[12] b3_val_uni.shape= (180, 1, 1)\n",
            "0.10784670149258761\n",
            "1.3978082521226673\n",
            "MAPE:0.02182970433298077\n",
            "RMSE:1.728011014199627\n",
            "********************************************************************************\n",
            "Epoch 14/20\n",
            "23/23 [==============================] - 1s 46ms/step - loss: 0.0510 - val_loss: 0.0695\n",
            "[13] b3_val_uni.shape= (180, 1, 1)\n",
            "0.08961777133578895\n",
            "1.1615408672756617\n",
            "MAPE:0.018937754770557827\n",
            "RMSE:1.4816805008063376\n",
            "********************************************************************************\n",
            "Epoch 15/20\n",
            "23/23 [==============================] - 1s 46ms/step - loss: 0.0445 - val_loss: 0.1738\n",
            "[14] b3_val_uni.shape= (180, 1, 1)\n",
            "0.11185706804600867\n",
            "1.4497863845825192\n",
            "MAPE:0.024445005726468086\n",
            "RMSE:1.8520064691670706\n",
            "********************************************************************************\n",
            "Epoch 16/20\n",
            "23/23 [==============================] - 1s 46ms/step - loss: 0.0586 - val_loss: 0.0178\n",
            "[15] b3_val_uni.shape= (180, 1, 1)\n",
            "0.16397077658746775\n",
            "2.1252355609469946\n",
            "MAPE:0.03317154897530024\n",
            "RMSE:2.538972902447969\n",
            "********************************************************************************\n",
            "Epoch 17/20\n",
            "23/23 [==============================] - 1s 47ms/step - loss: 0.0427 - val_loss: 0.0173\n",
            "[16] b3_val_uni.shape= (180, 1, 1)\n",
            "0.0860335210921492\n",
            "1.1150851787990996\n",
            "MAPE:0.01789296817273241\n",
            "RMSE:1.4752168236991474\n",
            "********************************************************************************\n",
            "Epoch 18/20\n",
            "23/23 [==============================] - 1s 49ms/step - loss: 0.0386 - val_loss: 0.0527\n",
            "[17] b3_val_uni.shape= (180, 1, 1)\n",
            "0.08863823745937582\n",
            "1.1488453377617727\n",
            "MAPE:0.018754131255036745\n",
            "RMSE:1.4763765386278829\n",
            "********************************************************************************\n",
            "Epoch 19/20\n",
            "23/23 [==============================] - 1s 47ms/step - loss: 0.0473 - val_loss: 0.0114\n",
            "[18] b3_val_uni.shape= (180, 1, 1)\n",
            "0.17031909455308636\n",
            "2.2075165396796335\n",
            "MAPE:0.03365479508188059\n",
            "RMSE:2.6781761363477634\n",
            "********************************************************************************\n",
            "Epoch 20/20\n",
            "23/23 [==============================] - 1s 47ms/step - loss: 0.0525 - val_loss: 0.0191\n",
            "[19] b3_val_uni.shape= (180, 1, 1)\n",
            "0.09855098289142288\n",
            "1.2773256861368816\n",
            "MAPE:0.020434410512729245\n",
            "RMSE:1.5855004349743362\n",
            "********************************************************************************\n"
          ]
        },
        {
          "output_type": "execute_result",
          "data": {
            "text/plain": [
              "<keras.callbacks.History at 0x7fabada85510>"
            ]
          },
          "metadata": {},
          "execution_count": 16
        }
      ]
    },
    {
      "cell_type": "code",
      "metadata": {
        "id": "-pzlR4Ht4Ary"
      },
      "source": [
        "prediction = m.predict(x_val_uni).flatten()"
      ],
      "execution_count": 17,
      "outputs": []
    },
    {
      "cell_type": "code",
      "metadata": {
        "id": "Q30_5a934R0m"
      },
      "source": [
        "true_val = y_val_uni.flatten()"
      ],
      "execution_count": 18,
      "outputs": []
    },
    {
      "cell_type": "code",
      "metadata": {
        "colab": {
          "base_uri": "https://localhost:8080/"
        },
        "id": "xvd38K-Q5COT",
        "outputId": "a78c4d19-a2c8-4833-e522-eb0be34c2202"
      },
      "source": [
        "k = dn.apply_inv(true_val)\n",
        "k"
      ],
      "execution_count": 19,
      "outputs": [
        {
          "output_type": "execute_result",
          "data": {
            "text/plain": [
              "array([46.59, 47.02, 47.58, 47.86, 48.34, 49.04, 47.79, 47.02, 47.94,\n",
              "       48.18, 47.5 , 47.85, 48.24, 48.35, 47.47, 49.78, 50.45, 50.63,\n",
              "       52.14, 52.15, 53.08, 52.81, 53.47, 52.25, 52.87, 53.16, 53.  ,\n",
              "       52.28, 52.78, 52.61, 52.81, 52.26, 52.16, 53.55, 54.77, 55.67,\n",
              "       56.19, 56.8 , 57.95, 58.34, 58.69, 58.22, 59.5 , 60.07, 61.09,\n",
              "       60.4 , 59.12, 61.67, 61.66, 63.21, 63.43, 61.55, 60.54, 59.7 ,\n",
              "       61.33, 63.81, 66.08, 65.03, 64.02, 64.45, 66.02, 65.59, 65.36,\n",
              "       64.82, 64.55, 59.95, 61.43, 61.48, 57.75, 61.12, 58.47, 60.93,\n",
              "       61.49, 60.55, 59.19, 61.41, 58.73, 59.34, 59.77, 59.61, 59.29,\n",
              "       59.7 , 60.2 , 63.15, 63.42, 63.16, 63.33, 62.61, 61.34, 61.45,\n",
              "       62.18, 62.02, 63.03, 63.81, 65.  , 63.5 , 64.46, 65.72, 65.63,\n",
              "       64.73, 64.96, 64.92, 65.31, 65.96, 63.82, 65.32, 66.24, 65.49,\n",
              "       63.28, 61.95, 63.61, 66.13, 66.27, 66.41, 66.87, 66.31, 67.8 ,\n",
              "       68.79, 68.81, 69.57, 69.21, 70.11, 69.9 , 70.34, 71.  , 70.94,\n",
              "       72.06, 72.03, 71.06, 71.64, 73.64, 73.15, 73.11, 73.31, 74.21,\n",
              "       72.98, 73.14, 73.52, 75.33, 75.37, 73.62, 72.22, 72.98, 74.56,\n",
              "       74.21, 75.24, 73.06, 71.67, 71.76, 66.45, 67.32, 70.26, 72.15,\n",
              "       72.24, 72.15, 71.68, 72.37, 73.62, 73.93, 71.31, 70.64, 68.19,\n",
              "       69.1 , 68.26, 66.56, 68.33, 69.3 , 69.12, 68.36, 67.44, 66.5 ,\n",
              "       65.36, 63.69, 62.25, 65.65, 67.5 , 68.54, 67.42, 68.84, 69.28])"
            ]
          },
          "metadata": {},
          "execution_count": 19
        }
      ]
    },
    {
      "cell_type": "code",
      "metadata": {
        "colab": {
          "base_uri": "https://localhost:8080/"
        },
        "id": "VuPBnshb53Hf",
        "outputId": "2616563b-c6b9-4548-aefb-6be12ce6cc54"
      },
      "source": [
        "j = dn.apply_inv(prediction)\n",
        "j"
      ],
      "execution_count": 20,
      "outputs": [
        {
          "output_type": "execute_result",
          "data": {
            "text/plain": [
              "array([45.08856 , 45.421288, 45.824997, 46.269577, 46.601   , 46.932663,\n",
              "       47.279377, 47.15173 , 46.924484, 47.17597 , 47.36527 , 47.302185,\n",
              "       47.300888, 47.5651  , 47.76692 , 47.680923, 48.399235, 48.983128,\n",
              "       49.3422  , 49.8933  , 50.372646, 50.997814, 51.179657, 51.69134 ,\n",
              "       51.6189  , 51.7138  , 52.003246, 52.43141 , 52.207806, 52.342922,\n",
              "       52.74936 , 52.754295, 52.57557 , 52.58844 , 53.673992, 54.449432,\n",
              "       55.327244, 56.366947, 56.869682, 58.12606 , 58.31669 , 58.596977,\n",
              "       57.84558 , 58.285145, 58.461704, 59.200504, 59.202408, 59.218456,\n",
              "       60.289017, 61.071545, 61.78168 , 62.065285, 61.71966 , 61.02752 ,\n",
              "       60.176125, 61.414772, 62.94176 , 64.774315, 64.494514, 63.87977 ,\n",
              "       64.13574 , 65.34983 , 65.08468 , 64.972   , 64.95136 , 64.44654 ,\n",
              "       61.272465, 61.136223, 60.866222, 57.840668, 60.109493, 59.259785,\n",
              "       59.814983, 60.554604, 60.041985, 59.199802, 60.251724, 59.120102,\n",
              "       58.534603, 58.927654, 58.639877, 58.46925 , 58.791424, 59.937237,\n",
              "       62.084087, 63.05752 , 63.157837, 62.785946, 63.18606 , 61.847176,\n",
              "       61.89791 , 62.40128 , 62.221703, 62.348545, 63.73497 , 64.470375,\n",
              "       63.699627, 64.184975, 64.95615 , 64.8855  , 64.44061 , 64.74384 ,\n",
              "       65.11993 , 65.24633 , 65.58714 , 64.31692 , 64.78605 , 65.64045 ,\n",
              "       65.23062 , 63.55497 , 62.341957, 63.10746 , 64.60642 , 65.61116 ,\n",
              "       65.902176, 66.77167 , 66.687454, 67.22884 , 67.66355 , 68.0917  ,\n",
              "       68.88054 , 68.86456 , 69.38837 , 69.106224, 69.651306, 70.319885,\n",
              "       70.27527 , 70.69655 , 70.69299 , 70.31326 , 70.80271 , 72.0962  ,\n",
              "       72.06147 , 72.07114 , 72.27454 , 73.167725, 72.55811 , 72.30274 ,\n",
              "       72.625206, 73.73729 , 74.25977 , 73.30447 , 72.05711 , 72.23547 ,\n",
              "       72.99431 , 72.9221  , 73.641464, 72.93799 , 71.46292 , 71.096436,\n",
              "       67.24063 , 66.51331 , 68.32503 , 69.90294 , 70.4953  , 71.12413 ,\n",
              "       71.01486 , 71.400955, 71.69486 , 72.49747 , 71.536736, 70.92511 ,\n",
              "       69.241035, 68.202   , 67.43899 , 66.26817 , 66.93665 , 68.323906,\n",
              "       68.033615, 67.65915 , 67.19796 , 66.69652 , 65.67492 , 64.374855,\n",
              "       62.571648, 63.593105, 65.3773  , 66.8072  , 66.71882 , 67.91011 ],\n",
              "      dtype=float32)"
            ]
          },
          "metadata": {},
          "execution_count": 20
        }
      ]
    },
    {
      "cell_type": "code",
      "metadata": {
        "id": "gMgx5TmG6Cbd"
      },
      "source": [
        "import matplotlib.pyplot as plt\n",
        "%matplotlib inline"
      ],
      "execution_count": 21,
      "outputs": []
    },
    {
      "cell_type": "code",
      "metadata": {
        "colab": {
          "base_uri": "https://localhost:8080/",
          "height": 265
        },
        "id": "P-yxPj_I6Wm4",
        "outputId": "95079f4c-e603-4149-81f6-95a7144e32f1"
      },
      "source": [
        "plt.plot(k,label='True values')\n",
        "plt.plot(j,label='Predicted value')\n",
        "plt.legend()\n",
        "plt.show()"
      ],
      "execution_count": 22,
      "outputs": [
        {
          "output_type": "display_data",
          "data": {
            "image/png": "[encoded data removed]",
            "text/plain": [
              "<Figure size 432x288 with 1 Axes>"
            ]
          },
          "metadata": {
            "needs_background": "light"
          }
        }
      ]
    },
    {
      "cell_type": "code",
      "metadata": {
        "id": "_GLCvOIuaryo",
        "outputId": "badfa5dc-bae6-476a-e2d3-bd59752acf79",
        "colab": {
          "base_uri": "https://localhost:8080/"
        }
      },
      "source": [
        "#evaluation metrics for our validation data\n",
        "print(f'MAPE:{np.mean(np.abs(k - j)/k)}')\n",
        "print(f'RMSE:{np.sqrt(np.mean(np.square(k - j)))}')"
      ],
      "execution_count": 26,
      "outputs": [
        {
          "output_type": "stream",
          "name": "stdout",
          "text": [
            "MAPE:0.020434410512729245\n",
            "RMSE:1.5855004349743362\n"
          ]
        }
      ]
    },
    {
      "cell_type": "code",
      "metadata": {
        "id": "vLbNyCTeCEjh"
      },
      "source": [
        ""
      ],
      "execution_count": null,
      "outputs": []
    }
  ]
}