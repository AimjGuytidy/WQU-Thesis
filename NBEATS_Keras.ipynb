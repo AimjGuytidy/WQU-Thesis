{
  "nbformat": 4,
  "nbformat_minor": 0,
  "metadata": {
    "colab": {
      "name": "NBEATS_Keras.ipynb",
      "provenance": [],
      "collapsed_sections": [],
      "mount_file_id": "1g4lktsNOa6F1paHpAbA9xAXTnNGm8xkx",
      "authorship_tag": "ABX9TyOd8mc/ahkTrQtT7h2t4xXF",
      "include_colab_link": true
    },
    "kernelspec": {
      "name": "python3",
      "display_name": "Python 3"
    },
    "language_info": {
      "name": "python"
    }
  },
  "cells": [
    {
      "cell_type": "markdown",
      "metadata": {
        "id": "view-in-github",
        "colab_type": "text"
      },
      "source": [
        "<a href=\"https://colab.research.google.com/github/AimjGuytidy/WQU-Thesis/blob/main/NBEATS_Keras.ipynb\" target=\"_parent\"><img src=\"https://colab.research.google.com/assets/colab-badge.svg\" alt=\"Open In Colab\"/></a>"
      ]
    },
    {
      "cell_type": "code",
      "metadata": {
        "colab": {
          "base_uri": "https://localhost:8080/"
        },
        "id": "u2LuBiArxR4O",
        "outputId": "27de64f1-2c3a-46f2-c7b7-eda3a1875af1"
      },
      "source": [
        "%pip install nbeats-keras"
      ],
      "execution_count": 1,
      "outputs": [
        {
          "output_type": "stream",
          "name": "stdout",
          "text": [
            "Collecting nbeats-keras\n",
            "  Downloading nbeats_keras-1.5.0-py3-none-any.whl (6.4 kB)\n",
            "Requirement already satisfied: tensorflow in /usr/local/lib/python3.7/dist-packages (from nbeats-keras) (2.6.0)\n",
            "Requirement already satisfied: pandas in /usr/local/lib/python3.7/dist-packages (from nbeats-keras) (1.1.5)\n",
            "Requirement already satisfied: matplotlib in /usr/local/lib/python3.7/dist-packages (from nbeats-keras) (3.2.2)\n",
            "Requirement already satisfied: numpy in /usr/local/lib/python3.7/dist-packages (from nbeats-keras) (1.19.5)\n",
            "Requirement already satisfied: keras in /usr/local/lib/python3.7/dist-packages (from nbeats-keras) (2.6.0)\n",
            "Requirement already satisfied: cycler>=0.10 in /usr/local/lib/python3.7/dist-packages (from matplotlib->nbeats-keras) (0.10.0)\n",
            "Requirement already satisfied: kiwisolver>=1.0.1 in /usr/local/lib/python3.7/dist-packages (from matplotlib->nbeats-keras) (1.3.2)\n",
            "Requirement already satisfied: pyparsing!=2.0.4,!=2.1.2,!=2.1.6,>=2.0.1 in /usr/local/lib/python3.7/dist-packages (from matplotlib->nbeats-keras) (2.4.7)\n",
            "Requirement already satisfied: python-dateutil>=2.1 in /usr/local/lib/python3.7/dist-packages (from matplotlib->nbeats-keras) (2.8.2)\n",
            "Requirement already satisfied: six in /usr/local/lib/python3.7/dist-packages (from cycler>=0.10->matplotlib->nbeats-keras) (1.15.0)\n",
            "Requirement already satisfied: pytz>=2017.2 in /usr/local/lib/python3.7/dist-packages (from pandas->nbeats-keras) (2018.9)\n",
            "Requirement already satisfied: astunparse~=1.6.3 in /usr/local/lib/python3.7/dist-packages (from tensorflow->nbeats-keras) (1.6.3)\n",
            "Requirement already satisfied: wheel~=0.35 in /usr/local/lib/python3.7/dist-packages (from tensorflow->nbeats-keras) (0.37.0)\n",
            "Requirement already satisfied: typing-extensions~=3.7.4 in /usr/local/lib/python3.7/dist-packages (from tensorflow->nbeats-keras) (3.7.4.3)\n",
            "Requirement already satisfied: protobuf>=3.9.2 in /usr/local/lib/python3.7/dist-packages (from tensorflow->nbeats-keras) (3.17.3)\n",
            "Requirement already satisfied: keras-preprocessing~=1.1.2 in /usr/local/lib/python3.7/dist-packages (from tensorflow->nbeats-keras) (1.1.2)\n",
            "Requirement already satisfied: tensorflow-estimator~=2.6 in /usr/local/lib/python3.7/dist-packages (from tensorflow->nbeats-keras) (2.6.0)\n",
            "Requirement already satisfied: google-pasta~=0.2 in /usr/local/lib/python3.7/dist-packages (from tensorflow->nbeats-keras) (0.2.0)\n",
            "Requirement already satisfied: wrapt~=1.12.1 in /usr/local/lib/python3.7/dist-packages (from tensorflow->nbeats-keras) (1.12.1)\n",
            "Requirement already satisfied: flatbuffers~=1.12.0 in /usr/local/lib/python3.7/dist-packages (from tensorflow->nbeats-keras) (1.12)\n",
            "Requirement already satisfied: tensorboard~=2.6 in /usr/local/lib/python3.7/dist-packages (from tensorflow->nbeats-keras) (2.6.0)\n",
            "Requirement already satisfied: grpcio<2.0,>=1.37.0 in /usr/local/lib/python3.7/dist-packages (from tensorflow->nbeats-keras) (1.41.0)\n",
            "Requirement already satisfied: absl-py~=0.10 in /usr/local/lib/python3.7/dist-packages (from tensorflow->nbeats-keras) (0.12.0)\n",
            "Requirement already satisfied: termcolor~=1.1.0 in /usr/local/lib/python3.7/dist-packages (from tensorflow->nbeats-keras) (1.1.0)\n",
            "Requirement already satisfied: opt-einsum~=3.3.0 in /usr/local/lib/python3.7/dist-packages (from tensorflow->nbeats-keras) (3.3.0)\n",
            "Requirement already satisfied: h5py~=3.1.0 in /usr/local/lib/python3.7/dist-packages (from tensorflow->nbeats-keras) (3.1.0)\n",
            "Requirement already satisfied: clang~=5.0 in /usr/local/lib/python3.7/dist-packages (from tensorflow->nbeats-keras) (5.0)\n",
            "Requirement already satisfied: gast==0.4.0 in /usr/local/lib/python3.7/dist-packages (from tensorflow->nbeats-keras) (0.4.0)\n",
            "Requirement already satisfied: cached-property in /usr/local/lib/python3.7/dist-packages (from h5py~=3.1.0->tensorflow->nbeats-keras) (1.5.2)\n",
            "Requirement already satisfied: google-auth-oauthlib<0.5,>=0.4.1 in /usr/local/lib/python3.7/dist-packages (from tensorboard~=2.6->tensorflow->nbeats-keras) (0.4.6)\n",
            "Requirement already satisfied: google-auth<2,>=1.6.3 in /usr/local/lib/python3.7/dist-packages (from tensorboard~=2.6->tensorflow->nbeats-keras) (1.35.0)\n",
            "Requirement already satisfied: tensorboard-plugin-wit>=1.6.0 in /usr/local/lib/python3.7/dist-packages (from tensorboard~=2.6->tensorflow->nbeats-keras) (1.8.0)\n",
            "Requirement already satisfied: tensorboard-data-server<0.7.0,>=0.6.0 in /usr/local/lib/python3.7/dist-packages (from tensorboard~=2.6->tensorflow->nbeats-keras) (0.6.1)\n",
            "Requirement already satisfied: werkzeug>=0.11.15 in /usr/local/lib/python3.7/dist-packages (from tensorboard~=2.6->tensorflow->nbeats-keras) (1.0.1)\n",
            "Requirement already satisfied: markdown>=2.6.8 in /usr/local/lib/python3.7/dist-packages (from tensorboard~=2.6->tensorflow->nbeats-keras) (3.3.4)\n",
            "Requirement already satisfied: setuptools>=41.0.0 in /usr/local/lib/python3.7/dist-packages (from tensorboard~=2.6->tensorflow->nbeats-keras) (57.4.0)\n",
            "Requirement already satisfied: requests<3,>=2.21.0 in /usr/local/lib/python3.7/dist-packages (from tensorboard~=2.6->tensorflow->nbeats-keras) (2.23.0)\n",
            "Requirement already satisfied: pyasn1-modules>=0.2.1 in /usr/local/lib/python3.7/dist-packages (from google-auth<2,>=1.6.3->tensorboard~=2.6->tensorflow->nbeats-keras) (0.2.8)\n",
            "Requirement already satisfied: cachetools<5.0,>=2.0.0 in /usr/local/lib/python3.7/dist-packages (from google-auth<2,>=1.6.3->tensorboard~=2.6->tensorflow->nbeats-keras) (4.2.4)\n",
            "Requirement already satisfied: rsa<5,>=3.1.4 in /usr/local/lib/python3.7/dist-packages (from google-auth<2,>=1.6.3->tensorboard~=2.6->tensorflow->nbeats-keras) (4.7.2)\n",
            "Requirement already satisfied: requests-oauthlib>=0.7.0 in /usr/local/lib/python3.7/dist-packages (from google-auth-oauthlib<0.5,>=0.4.1->tensorboard~=2.6->tensorflow->nbeats-keras) (1.3.0)\n",
            "Requirement already satisfied: importlib-metadata in /usr/local/lib/python3.7/dist-packages (from markdown>=2.6.8->tensorboard~=2.6->tensorflow->nbeats-keras) (4.8.1)\n",
            "Requirement already satisfied: pyasn1<0.5.0,>=0.4.6 in /usr/local/lib/python3.7/dist-packages (from pyasn1-modules>=0.2.1->google-auth<2,>=1.6.3->tensorboard~=2.6->tensorflow->nbeats-keras) (0.4.8)\n",
            "Requirement already satisfied: urllib3!=1.25.0,!=1.25.1,<1.26,>=1.21.1 in /usr/local/lib/python3.7/dist-packages (from requests<3,>=2.21.0->tensorboard~=2.6->tensorflow->nbeats-keras) (1.24.3)\n",
            "Requirement already satisfied: idna<3,>=2.5 in /usr/local/lib/python3.7/dist-packages (from requests<3,>=2.21.0->tensorboard~=2.6->tensorflow->nbeats-keras) (2.10)\n",
            "Requirement already satisfied: chardet<4,>=3.0.2 in /usr/local/lib/python3.7/dist-packages (from requests<3,>=2.21.0->tensorboard~=2.6->tensorflow->nbeats-keras) (3.0.4)\n",
            "Requirement already satisfied: certifi>=2017.4.17 in /usr/local/lib/python3.7/dist-packages (from requests<3,>=2.21.0->tensorboard~=2.6->tensorflow->nbeats-keras) (2021.5.30)\n",
            "Requirement already satisfied: oauthlib>=3.0.0 in /usr/local/lib/python3.7/dist-packages (from requests-oauthlib>=0.7.0->google-auth-oauthlib<0.5,>=0.4.1->tensorboard~=2.6->tensorflow->nbeats-keras) (3.1.1)\n",
            "Requirement already satisfied: zipp>=0.5 in /usr/local/lib/python3.7/dist-packages (from importlib-metadata->markdown>=2.6.8->tensorboard~=2.6->tensorflow->nbeats-keras) (3.6.0)\n",
            "Installing collected packages: nbeats-keras\n",
            "Successfully installed nbeats-keras-1.5.0\n"
          ]
        }
      ]
    },
    {
      "cell_type": "code",
      "metadata": {
        "id": "I9EYzReDyE-6"
      },
      "source": [
        "import os\n",
        "\n",
        "import numpy as np\n",
        "import pandas as pd\n",
        "import tensorflow as tf\n",
        "from tensorflow.keras.callbacks import Callback\n",
        "\n",
        "from nbeats_keras.model import NBeatsNet"
      ],
      "execution_count": 2,
      "outputs": []
    },
    {
      "cell_type": "code",
      "metadata": {
        "id": "TsZq0bROyPhG"
      },
      "source": [
        "pd.set_option('display.max_rows', None)\n",
        "pd.set_option('display.max_columns', None)\n",
        "pd.set_option('display.width', None)"
      ],
      "execution_count": 3,
      "outputs": []
    },
    {
      "cell_type": "code",
      "metadata": {
        "colab": {
          "base_uri": "https://localhost:8080/"
        },
        "id": "iuGtazvhyVu2",
        "outputId": "843699c1-410f-417d-847b-5398be8a9aea"
      },
      "source": [
        "df = pd.read_csv('/content/oil.csv')\n",
        "print(df.head())\n",
        "print(len(df))"
      ],
      "execution_count": 4,
      "outputs": [
        {
          "output_type": "stream",
          "name": "stdout",
          "text": [
            "           Date  Price\n",
            "0  Aug 25, 2017  47.65\n",
            "1  Aug 28, 2017  46.40\n",
            "2  Aug 29, 2017  46.46\n",
            "3  Aug 30, 2017  45.96\n",
            "4  Aug 31, 2017  47.26\n",
            "1005\n"
          ]
        }
      ]
    },
    {
      "cell_type": "code",
      "metadata": {
        "colab": {
          "base_uri": "https://localhost:8080/",
          "height": 204
        },
        "id": "um38d-AXylIv",
        "outputId": "bb43fd4e-ede1-451e-b691-37dcf7eec46c"
      },
      "source": [
        "df['Date'] = pd.to_datetime(df['Date'])\n",
        "df.head()"
      ],
      "execution_count": 5,
      "outputs": [
        {
          "output_type": "execute_result",
          "data": {
            "text/html": [
              "<div>\n",
              "<style scoped>\n",
              "    .dataframe tbody tr th:only-of-type {\n",
              "        vertical-align: middle;\n",
              "    }\n",
              "\n",
              "    .dataframe tbody tr th {\n",
              "        vertical-align: top;\n",
              "    }\n",
              "\n",
              "    .dataframe thead th {\n",
              "        text-align: right;\n",
              "    }\n",
              "</style>\n",
              "<table border=\"1\" class=\"dataframe\">\n",
              "  <thead>\n",
              "    <tr style=\"text-align: right;\">\n",
              "      <th></th>\n",
              "      <th>Date</th>\n",
              "      <th>Price</th>\n",
              "    </tr>\n",
              "  </thead>\n",
              "  <tbody>\n",
              "    <tr>\n",
              "      <th>0</th>\n",
              "      <td>2017-08-25</td>\n",
              "      <td>47.65</td>\n",
              "    </tr>\n",
              "    <tr>\n",
              "      <th>1</th>\n",
              "      <td>2017-08-28</td>\n",
              "      <td>46.40</td>\n",
              "    </tr>\n",
              "    <tr>\n",
              "      <th>2</th>\n",
              "      <td>2017-08-29</td>\n",
              "      <td>46.46</td>\n",
              "    </tr>\n",
              "    <tr>\n",
              "      <th>3</th>\n",
              "      <td>2017-08-30</td>\n",
              "      <td>45.96</td>\n",
              "    </tr>\n",
              "    <tr>\n",
              "      <th>4</th>\n",
              "      <td>2017-08-31</td>\n",
              "      <td>47.26</td>\n",
              "    </tr>\n",
              "  </tbody>\n",
              "</table>\n",
              "</div>"
            ],
            "text/plain": [
              "        Date  Price\n",
              "0 2017-08-25  47.65\n",
              "1 2017-08-28  46.40\n",
              "2 2017-08-29  46.46\n",
              "3 2017-08-30  45.96\n",
              "4 2017-08-31  47.26"
            ]
          },
          "metadata": {},
          "execution_count": 5
        }
      ]
    },
    {
      "cell_type": "code",
      "metadata": {
        "colab": {
          "base_uri": "https://localhost:8080/"
        },
        "id": "PT-weXEMypxG",
        "outputId": "f95c0b1e-306a-45ab-cafb-84a5077d8cb1"
      },
      "source": [
        "df.values.flatten()"
      ],
      "execution_count": 6,
      "outputs": [
        {
          "output_type": "execute_result",
          "data": {
            "text/plain": [
              "array([Timestamp('2017-08-25 00:00:00'), 47.65,\n",
              "       Timestamp('2017-08-28 00:00:00'), ..., 68.84,\n",
              "       Timestamp('2021-08-30 00:00:00'), 69.28], dtype=object)"
            ]
          },
          "metadata": {},
          "execution_count": 6
        }
      ]
    },
    {
      "cell_type": "code",
      "metadata": {
        "id": "6lRp09Qdzh9b"
      },
      "source": [
        "def univariate_data(dataset, start_index, end_index, history_size, target_size):\n",
        "    data = []\n",
        "    labels = []\n",
        "\n",
        "    start_index = start_index + history_size\n",
        "    if end_index is None:\n",
        "        end_index = len(dataset) - target_size\n",
        "\n",
        "    for i in range(start_index, end_index):\n",
        "        indices = range(i - history_size, i)\n",
        "        # Reshape data from (history_size,) to (history_size, 1)\n",
        "        data.append(np.reshape(dataset[indices], (history_size, 1)))\n",
        "        labels.append(dataset[i + target_size])\n",
        "    data = np.array(data)\n",
        "    labels = np.array(labels)\n",
        "    return data.reshape(data.shape[0], data.shape[1], 1), labels.reshape(labels.shape[0], 1, 1)"
      ],
      "execution_count": 7,
      "outputs": []
    },
    {
      "cell_type": "code",
      "metadata": {
        "id": "BAaus1e00cp9"
      },
      "source": [
        "class DataNormalizer:\n",
        "\n",
        "    def __init__(self, train):\n",
        "        self.uni_train_mean = train.mean()\n",
        "        self.uni_train_std = train.std()\n",
        "\n",
        "    def apply(self, x):\n",
        "        return (x - self.uni_train_mean) / self.uni_train_std\n",
        "\n",
        "    def apply_inv(self, x):\n",
        "        return x * self.uni_train_std + self.uni_train_mean"
      ],
      "execution_count": 8,
      "outputs": []
    },
    {
      "cell_type": "code",
      "metadata": {
        "id": "C3NkY1160cZE"
      },
      "source": [
        ""
      ],
      "execution_count": 8,
      "outputs": []
    },
    {
      "cell_type": "code",
      "metadata": {
        "id": "RdL5Fn81z1nE"
      },
      "source": [
        "TRAIN_SPLIT = 805\n",
        "\n",
        "uni_data = df['Price']\n",
        "uni_data.index = df['Date']\n",
        "\n",
        "uni_data = uni_data.values"
      ],
      "execution_count": 9,
      "outputs": []
    },
    {
      "cell_type": "code",
      "metadata": {
        "colab": {
          "base_uri": "https://localhost:8080/"
        },
        "id": "tQ2LxHK70_AY",
        "outputId": "a745a7a5-3f90-4586-b31d-1e3ab0d80598"
      },
      "source": [
        "uni_data"
      ],
      "execution_count": 10,
      "outputs": [
        {
          "output_type": "execute_result",
          "data": {
            "text/plain": [
              "array([47.65, 46.4 , 46.46, ..., 67.42, 68.84, 69.28])"
            ]
          },
          "metadata": {},
          "execution_count": 10
        }
      ]
    },
    {
      "cell_type": "code",
      "metadata": {
        "colab": {
          "base_uri": "https://localhost:8080/"
        },
        "id": "TqnYfd851BG3",
        "outputId": "21c16055-e712-4fa3-89df-01d0fb729f4d"
      },
      "source": [
        "dn = DataNormalizer(train=uni_data[:TRAIN_SPLIT])\n",
        "uni_train_mean = uni_data[:TRAIN_SPLIT].mean()\n",
        "uni_train_std = uni_data[:TRAIN_SPLIT].std()\n",
        "\n",
        "uni_data = dn.apply(uni_data)\n",
        "\n",
        "univariate_past_history = 20\n",
        "univariate_future_target = 0\n",
        "\n",
        "x_train_uni, y_train_uni = univariate_data(uni_data, 0, TRAIN_SPLIT,\n",
        "                                           univariate_past_history,\n",
        "                                           univariate_future_target)\n",
        "x_val_uni, y_val_uni = univariate_data(uni_data, TRAIN_SPLIT, None,\n",
        "                                       univariate_past_history,\n",
        "                                       univariate_future_target)\n",
        "\n",
        "print('x_train_uni.shape=', x_train_uni.shape)\n",
        "print('y_train_uni.shape=', y_train_uni.shape)\n",
        "print('x_val_uni.shape=', x_val_uni.shape)\n",
        "print('y_val_uni.shape=', y_val_uni.shape)"
      ],
      "execution_count": 11,
      "outputs": [
        {
          "output_type": "stream",
          "name": "stdout",
          "text": [
            "x_train_uni.shape= (785, 20, 1)\n",
            "y_train_uni.shape= (785, 1, 1)\n",
            "x_val_uni.shape= (180, 20, 1)\n",
            "y_val_uni.shape= (180, 1, 1)\n"
          ]
        }
      ]
    },
    {
      "cell_type": "code",
      "metadata": {
        "colab": {
          "base_uri": "https://localhost:8080/"
        },
        "id": "V1THa02L1Ymt",
        "outputId": "2dbb78b1-310b-407b-9099-e3de0aff6b61"
      },
      "source": [
        "b_val_uni = np.mean(x_val_uni, axis=1)[..., 0]\n",
        "print(np.mean(np.abs(b_val_uni - y_val_uni)))\n",
        "print(np.mean(np.abs(dn.apply_inv(b_val_uni) - dn.apply_inv(y_val_uni))))"
      ],
      "execution_count": 12,
      "outputs": [
        {
          "output_type": "stream",
          "name": "stdout",
          "text": [
            "0.70700408120963\n",
            "9.16352061728395\n"
          ]
        }
      ]
    },
    {
      "cell_type": "code",
      "metadata": {
        "colab": {
          "base_uri": "https://localhost:8080/"
        },
        "id": "EH4IqPvb1190",
        "outputId": "6ef64643-efba-4f7f-d78d-225942a8dd87"
      },
      "source": [
        "b2_val_uni = x_val_uni[:, -1, 0]\n",
        "print(np.mean(np.abs(b2_val_uni - y_val_uni)))\n",
        "print(np.mean(np.abs(dn.apply_inv(b2_val_uni) - dn.apply_inv(y_val_uni))))"
      ],
      "execution_count": 13,
      "outputs": [
        {
          "output_type": "stream",
          "name": "stdout",
          "text": [
            "0.6721394137540546\n",
            "8.711637654320988\n"
          ]
        }
      ]
    },
    {
      "cell_type": "code",
      "metadata": {
        "id": "KHys542i2JUN"
      },
      "source": [
        "m = NBeatsNet(\n",
        "    stack_types=(NBeatsNet.GENERIC_BLOCK, NBeatsNet.GENERIC_BLOCK, NBeatsNet.GENERIC_BLOCK),\n",
        "    nb_blocks_per_stack=3,\n",
        "    forecast_length=1,\n",
        "    backcast_length=univariate_past_history,\n",
        "    thetas_dim=(15, 15, 15),\n",
        "    share_weights_in_stack=False,\n",
        "    hidden_layer_units=384)\n",
        "m.compile(loss='mse', optimizer='adam')"
      ],
      "execution_count": 14,
      "outputs": []
    },
    {
      "cell_type": "code",
      "metadata": {
        "id": "A8p9sGqN2YXX"
      },
      "source": [
        "class EvaluateModelCallback(Callback):\n",
        "\n",
        "    def on_epoch_end(self, epoch, logs=None):\n",
        "        b3_val_uni = m.predict(x_val_uni)\n",
        "        print(f'[{epoch}] b3_val_uni.shape=', b3_val_uni.shape)\n",
        "        print(np.mean(np.abs(b3_val_uni - y_val_uni)))\n",
        "        print(np.mean(np.abs(dn.apply_inv(b3_val_uni) - dn.apply_inv(y_val_uni))))\n",
        "        print(f'MAPE:{np.mean(np.abs((dn.apply_inv(b3_val_uni) - dn.apply_inv(y_val_uni))/dn.apply_inv(y_val_uni)))}')\n",
        "        print(f'RMSE:{np.sqrt(np.mean(np.square(dn.apply_inv(b3_val_uni) - dn.apply_inv(y_val_uni))))}')\n",
        "        print('*' * 80)"
      ],
      "execution_count": 15,
      "outputs": []
    },
    {
      "cell_type": "code",
      "metadata": {
        "colab": {
          "base_uri": "https://localhost:8080/"
        },
        "id": "4BCMePYR2lyj",
        "outputId": "60b73c6c-01ca-4cb2-82af-9f4b7e9c6b9d"
      },
      "source": [
        "tf.random.set_seed(42)\n",
        "m.fit(x_train_uni, y_train_uni,\n",
        "      epochs=20, validation_split=0.1, shuffle=True,\n",
        "      callbacks=[EvaluateModelCallback()])"
      ],
      "execution_count": 16,
      "outputs": [
        {
          "output_type": "stream",
          "name": "stdout",
          "text": [
            "Epoch 1/20\n",
            "23/23 [==============================] - 5s 68ms/step - loss: 2.1361 - val_loss: 0.0417\n",
            "[0] b3_val_uni.shape= (180, 1, 1)\n",
            "0.22166591810147548\n",
            "2.873025889926487\n",
            "MAPE:0.04640433417643559\n",
            "RMSE:3.198968566870388\n",
            "********************************************************************************\n",
            "Epoch 2/20\n",
            "23/23 [==============================] - 1s 44ms/step - loss: 0.1062 - val_loss: 0.0121\n",
            "[1] b3_val_uni.shape= (180, 1, 1)\n",
            "0.15317192628279547\n",
            "1.9852712749905057\n",
            "MAPE:0.03088620710699529\n",
            "RMSE:2.357978153567381\n",
            "********************************************************************************\n",
            "Epoch 3/20\n",
            "23/23 [==============================] - 1s 43ms/step - loss: 0.0577 - val_loss: 0.0701\n",
            "[2] b3_val_uni.shape= (180, 1, 1)\n",
            "0.15967823147755722\n",
            "2.0695995788574226\n",
            "MAPE:0.03213062457340882\n",
            "RMSE:2.4275918861030097\n",
            "********************************************************************************\n",
            "Epoch 4/20\n",
            "23/23 [==============================] - 1s 42ms/step - loss: 0.0555 - val_loss: 0.0102\n",
            "[3] b3_val_uni.shape= (180, 1, 1)\n",
            "0.08783187794528453\n",
            "1.1383944244384767\n",
            "MAPE:0.018072679603532642\n",
            "RMSE:1.4741978235230704\n",
            "********************************************************************************\n",
            "Epoch 5/20\n",
            "23/23 [==============================] - 1s 42ms/step - loss: 0.0455 - val_loss: 0.0098\n",
            "[4] b3_val_uni.shape= (180, 1, 1)\n",
            "0.08712503217906714\n",
            "1.1292325829399954\n",
            "MAPE:0.01803438769367365\n",
            "RMSE:1.5057735021457608\n",
            "********************************************************************************\n",
            "Epoch 6/20\n",
            "23/23 [==============================] - 1s 42ms/step - loss: 0.0409 - val_loss: 0.1426\n",
            "[5] b3_val_uni.shape= (180, 1, 1)\n",
            "0.10984755132691075\n",
            "1.4237410812377929\n",
            "MAPE:0.02402950214824594\n",
            "RMSE:1.8234042357437048\n",
            "********************************************************************************\n",
            "Epoch 7/20\n",
            "23/23 [==============================] - 1s 42ms/step - loss: 0.0500 - val_loss: 0.0188\n",
            "[6] b3_val_uni.shape= (180, 1, 1)\n",
            "0.10108154607936323\n",
            "1.3101243447197808\n",
            "MAPE:0.021086362039517657\n",
            "RMSE:1.6362577839524775\n",
            "********************************************************************************\n",
            "Epoch 8/20\n",
            "23/23 [==============================] - 1s 45ms/step - loss: 0.0441 - val_loss: 0.0127\n",
            "[7] b3_val_uni.shape= (180, 1, 1)\n",
            "0.12346044221068071\n",
            "1.600178612603082\n",
            "MAPE:0.02448314288422867\n",
            "RMSE:2.0123945963053704\n",
            "********************************************************************************\n",
            "Epoch 9/20\n",
            "23/23 [==============================] - 1s 42ms/step - loss: 0.0413 - val_loss: 0.1465\n",
            "[8] b3_val_uni.shape= (180, 1, 1)\n",
            "0.16975867559392974\n",
            "2.200253210279677\n",
            "MAPE:0.0342152801347128\n",
            "RMSE:2.568864422877632\n",
            "********************************************************************************\n",
            "Epoch 10/20\n",
            "23/23 [==============================] - 1s 43ms/step - loss: 0.0590 - val_loss: 0.0255\n",
            "[9] b3_val_uni.shape= (180, 1, 1)\n",
            "0.21819881524405974\n",
            "2.828088367886014\n",
            "MAPE:0.04311952698689332\n",
            "RMSE:3.3618662083380078\n",
            "********************************************************************************\n",
            "Epoch 11/20\n",
            "23/23 [==============================] - 1s 43ms/step - loss: 0.1096 - val_loss: 0.0186\n",
            "[10] b3_val_uni.shape= (180, 1, 1)\n",
            "0.2418154717633728\n",
            "3.1341856638590495\n",
            "MAPE:0.04832162206847821\n",
            "RMSE:3.5411302316042357\n",
            "********************************************************************************\n",
            "Epoch 12/20\n",
            "23/23 [==============================] - 1s 43ms/step - loss: 0.0533 - val_loss: 0.0089\n",
            "[11] b3_val_uni.shape= (180, 1, 1)\n",
            "0.13674150109950214\n",
            "1.7723155602349177\n",
            "MAPE:0.02731228120223774\n",
            "RMSE:2.1880261185455825\n",
            "********************************************************************************\n",
            "Epoch 13/20\n",
            "23/23 [==============================] - 1s 43ms/step - loss: 0.0725 - val_loss: 0.0159\n",
            "[12] b3_val_uni.shape= (180, 1, 1)\n",
            "0.16009149098423106\n",
            "2.0749562157524957\n",
            "MAPE:0.0321989576717198\n",
            "RMSE:2.4210838742700678\n",
            "********************************************************************************\n",
            "Epoch 14/20\n",
            "23/23 [==============================] - 1s 42ms/step - loss: 0.0515 - val_loss: 0.0381\n",
            "[13] b3_val_uni.shape= (180, 1, 1)\n",
            "0.08527572262324826\n",
            "1.105263718499078\n",
            "MAPE:0.017631845773008213\n",
            "RMSE:1.4348283002469253\n",
            "********************************************************************************\n",
            "Epoch 15/20\n",
            "23/23 [==============================] - 1s 42ms/step - loss: 0.0423 - val_loss: 0.1973\n",
            "[14] b3_val_uni.shape= (180, 1, 1)\n",
            "0.12561871922768253\n",
            "1.6281518758138016\n",
            "MAPE:0.027803394138130537\n",
            "RMSE:2.114003410396825\n",
            "********************************************************************************\n",
            "Epoch 16/20\n",
            "23/23 [==============================] - 1s 43ms/step - loss: 0.0760 - val_loss: 0.0834\n",
            "[15] b3_val_uni.shape= (180, 1, 1)\n",
            "0.1947577101278469\n",
            "2.5242666541205514\n",
            "MAPE:0.039477152858867534\n",
            "RMSE:2.953516720477727\n",
            "********************************************************************************\n",
            "Epoch 17/20\n",
            "23/23 [==============================] - 1s 43ms/step - loss: 0.0506 - val_loss: 0.0110\n",
            "[16] b3_val_uni.shape= (180, 1, 1)\n",
            "0.0860283718854767\n",
            "1.1150191387600372\n",
            "MAPE:0.017673166200626467\n",
            "RMSE:1.4368758317117525\n",
            "********************************************************************************\n",
            "Epoch 18/20\n",
            "23/23 [==============================] - 1s 42ms/step - loss: 0.0471 - val_loss: 0.0518\n",
            "[17] b3_val_uni.shape= (180, 1, 1)\n",
            "0.09169209171458549\n",
            "1.1884265153672962\n",
            "MAPE:0.019654231547051933\n",
            "RMSE:1.5274874524592803\n",
            "********************************************************************************\n",
            "Epoch 19/20\n",
            "23/23 [==============================] - 1s 42ms/step - loss: 0.0393 - val_loss: 0.0172\n",
            "[18] b3_val_uni.shape= (180, 1, 1)\n",
            "0.09656794420558737\n",
            "1.2516234419080947\n",
            "MAPE:0.01963049465487601\n",
            "RMSE:1.5636335470860905\n",
            "********************************************************************************\n",
            "Epoch 20/20\n",
            "23/23 [==============================] - 1s 42ms/step - loss: 0.0400 - val_loss: 0.0837\n",
            "[19] b3_val_uni.shape= (180, 1, 1)\n",
            "0.08666251465206586\n",
            "1.1232379794650607\n",
            "MAPE:0.018258699669353874\n",
            "RMSE:1.47061389979487\n",
            "********************************************************************************\n"
          ]
        },
        {
          "output_type": "execute_result",
          "data": {
            "text/plain": [
              "<keras.callbacks.History at 0x7fe643667dd0>"
            ]
          },
          "metadata": {},
          "execution_count": 16
        }
      ]
    },
    {
      "cell_type": "code",
      "metadata": {
        "id": "-pzlR4Ht4Ary"
      },
      "source": [
        "prediction = m.predict(x_val_uni).flatten()"
      ],
      "execution_count": 17,
      "outputs": []
    },
    {
      "cell_type": "code",
      "metadata": {
        "id": "Q30_5a934R0m"
      },
      "source": [
        "true_val = y_val_uni.flatten()"
      ],
      "execution_count": 18,
      "outputs": []
    },
    {
      "cell_type": "code",
      "metadata": {
        "colab": {
          "base_uri": "https://localhost:8080/"
        },
        "id": "xvd38K-Q5COT",
        "outputId": "a2c1c2ab-5f7e-47f6-a468-67ccc851c7f5"
      },
      "source": [
        "k = dn.apply_inv(true_val)\n",
        "k"
      ],
      "execution_count": 19,
      "outputs": [
        {
          "output_type": "execute_result",
          "data": {
            "text/plain": [
              "array([46.59, 47.02, 47.58, 47.86, 48.34, 49.04, 47.79, 47.02, 47.94,\n",
              "       48.18, 47.5 , 47.85, 48.24, 48.35, 47.47, 49.78, 50.45, 50.63,\n",
              "       52.14, 52.15, 53.08, 52.81, 53.47, 52.25, 52.87, 53.16, 53.  ,\n",
              "       52.28, 52.78, 52.61, 52.81, 52.26, 52.16, 53.55, 54.77, 55.67,\n",
              "       56.19, 56.8 , 57.95, 58.34, 58.69, 58.22, 59.5 , 60.07, 61.09,\n",
              "       60.4 , 59.12, 61.67, 61.66, 63.21, 63.43, 61.55, 60.54, 59.7 ,\n",
              "       61.33, 63.81, 66.08, 65.03, 64.02, 64.45, 66.02, 65.59, 65.36,\n",
              "       64.82, 64.55, 59.95, 61.43, 61.48, 57.75, 61.12, 58.47, 60.93,\n",
              "       61.49, 60.55, 59.19, 61.41, 58.73, 59.34, 59.77, 59.61, 59.29,\n",
              "       59.7 , 60.2 , 63.15, 63.42, 63.16, 63.33, 62.61, 61.34, 61.45,\n",
              "       62.18, 62.02, 63.03, 63.81, 65.  , 63.5 , 64.46, 65.72, 65.63,\n",
              "       64.73, 64.96, 64.92, 65.31, 65.96, 63.82, 65.32, 66.24, 65.49,\n",
              "       63.28, 61.95, 63.61, 66.13, 66.27, 66.41, 66.87, 66.31, 67.8 ,\n",
              "       68.79, 68.81, 69.57, 69.21, 70.11, 69.9 , 70.34, 71.  , 70.94,\n",
              "       72.06, 72.03, 71.06, 71.64, 73.64, 73.15, 73.11, 73.31, 74.21,\n",
              "       72.98, 73.14, 73.52, 75.33, 75.37, 73.62, 72.22, 72.98, 74.56,\n",
              "       74.21, 75.24, 73.06, 71.67, 71.76, 66.45, 67.32, 70.26, 72.15,\n",
              "       72.24, 72.15, 71.68, 72.37, 73.62, 73.93, 71.31, 70.64, 68.19,\n",
              "       69.1 , 68.26, 66.56, 68.33, 69.3 , 69.12, 68.36, 67.44, 66.5 ,\n",
              "       65.36, 63.69, 62.25, 65.65, 67.5 , 68.54, 67.42, 68.84, 69.28])"
            ]
          },
          "metadata": {},
          "execution_count": 19
        }
      ]
    },
    {
      "cell_type": "code",
      "metadata": {
        "colab": {
          "base_uri": "https://localhost:8080/"
        },
        "id": "VuPBnshb53Hf",
        "outputId": "21b4d65d-589f-4b5f-9599-faada9840957"
      },
      "source": [
        "j = dn.apply_inv(prediction)\n",
        "j"
      ],
      "execution_count": 20,
      "outputs": [
        {
          "output_type": "execute_result",
          "data": {
            "text/plain": [
              "array([44.594246, 45.15255 , 45.833187, 46.390953, 46.82827 , 47.205692,\n",
              "       47.597588, 47.40594 , 46.886497, 47.03532 , 47.36654 , 47.05213 ,\n",
              "       46.62288 , 46.889442, 47.05616 , 46.69406 , 48.375748, 49.17578 ,\n",
              "       49.801678, 50.55185 , 50.833313, 51.76963 , 52.00219 , 52.52648 ,\n",
              "       52.368713, 52.50186 , 52.711014, 52.783535, 52.46309 , 52.645973,\n",
              "       52.683556, 52.89276 , 52.716167, 52.837738, 53.679146, 54.789158,\n",
              "       55.633007, 56.237415, 56.854134, 57.750023, 57.994434, 58.27173 ,\n",
              "       57.771637, 58.23995 , 58.596455, 59.415054, 59.536716, 59.362686,\n",
              "       60.407658, 60.653538, 61.64012 , 62.107933, 61.643658, 60.718468,\n",
              "       60.094852, 61.119507, 63.023033, 64.8999  , 64.80926 , 64.07776 ,\n",
              "       64.38232 , 65.52898 , 65.41915 , 65.54848 , 65.17195 , 64.48287 ,\n",
              "       61.297573, 61.370914, 61.55882 , 58.541664, 60.565224, 59.24746 ,\n",
              "       61.100277, 61.456955, 61.18259 , 60.261288, 61.61022 , 59.868977,\n",
              "       59.40556 , 59.71512 , 59.087963, 58.943707, 59.938606, 60.45436 ,\n",
              "       63.361908, 63.84249 , 63.66381 , 63.26214 , 63.40042 , 61.777367,\n",
              "       61.839813, 62.296814, 62.028084, 62.548847, 64.08116 , 64.92228 ,\n",
              "       64.08128 , 64.594376, 65.40335 , 65.67824 , 65.03374 , 64.97435 ,\n",
              "       65.29874 , 65.46162 , 65.87328 , 64.3433  , 65.19221 , 66.18453 ,\n",
              "       65.787094, 63.517212, 62.34504 , 63.411377, 65.678276, 66.70823 ,\n",
              "       66.632126, 67.53516 , 67.32468 , 67.98714 , 68.55527 , 69.05368 ,\n",
              "       69.53209 , 69.44845 , 69.89587 , 69.63016 , 70.377235, 70.89851 ,\n",
              "       70.92292 , 71.56432 , 71.38991 , 70.98753 , 71.48815 , 72.93161 ,\n",
              "       73.123344, 73.01257 , 73.10448 , 73.98654 , 73.38321 , 73.15754 ,\n",
              "       73.33897 , 74.86691 , 75.42567 , 73.98975 , 72.6406  , 73.00386 ,\n",
              "       73.87479 , 73.95231 , 74.935936, 73.59985 , 72.17467 , 71.96059 ,\n",
              "       68.30641 , 68.08547 , 69.88396 , 71.54979 , 72.202805, 72.72026 ,\n",
              "       72.48963 , 73.188835, 74.00282 , 74.149216, 72.564674, 71.66238 ,\n",
              "       69.51477 , 69.071075, 68.52841 , 67.225815, 68.07685 , 69.480064,\n",
              "       68.860435, 68.58672 , 68.32472 , 67.72302 , 66.7724  , 65.38617 ,\n",
              "       63.550358, 64.80795 , 66.82019 , 69.08692 , 68.53342 , 69.76573 ],\n",
              "      dtype=float32)"
            ]
          },
          "metadata": {},
          "execution_count": 20
        }
      ]
    },
    {
      "cell_type": "code",
      "metadata": {
        "id": "gMgx5TmG6Cbd"
      },
      "source": [
        "import matplotlib.pyplot as plt\n",
        "%matplotlib inline"
      ],
      "execution_count": 21,
      "outputs": []
    },
    {
      "cell_type": "code",
      "metadata": {
        "colab": {
          "base_uri": "https://localhost:8080/",
          "height": 483
        },
        "id": "P-yxPj_I6Wm4",
        "outputId": "8093d9aa-1df3-44d5-eaa0-0929e11eabdf"
      },
      "source": [
        "plt.figure(figsize=[12,8])\n",
        "plt.plot(k,label='True values')\n",
        "plt.plot(j,label='Predicted value')\n",
        "plt.legend()\n",
        "plt.show()"
      ],
      "execution_count": 24,
      "outputs": [
        {
          "output_type": "display_data",
          "data": {
            "image/png": "[encoded data removed]",
            "text/plain": [
              "<Figure size 864x576 with 1 Axes>"
            ]
          },
          "metadata": {
            "needs_background": "light"
          }
        }
      ]
    },
    {
      "cell_type": "code",
      "metadata": {
        "id": "vLbNyCTeCEjh",
        "colab": {
          "base_uri": "https://localhost:8080/"
        },
        "outputId": "db031db6-c055-4ea8-b84c-00110542e00d"
      },
      "source": [
        "print('Evaluation Metrics')\n",
        "print('*'*50)\n",
        "print('\\n')\n",
        "print(f'MAPE:{np.mean(np.abs((j - k)/k))}')\n",
        "print(f'RMSE:{np.sqrt(np.mean(np.square(j - k)))}')"
      ],
      "execution_count": 28,
      "outputs": [
        {
          "output_type": "stream",
          "name": "stdout",
          "text": [
            "Evaluation Metrics\n",
            "**************************************************\n",
            "\n",
            "\n",
            "MAPE:0.018258699669353874\n",
            "RMSE:1.47061389979487\n"
          ]
        }
      ]
    },
    {
      "cell_type": "code",
      "metadata": {
        "id": "xO6k5A9EQwvQ"
      },
      "source": [
        ""
      ],
      "execution_count": null,
      "outputs": []
    }
  ]
}