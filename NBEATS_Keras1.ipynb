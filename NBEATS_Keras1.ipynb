{
  "nbformat": 4,
  "nbformat_minor": 0,
  "metadata": {
    "colab": {
      "name": "NBEATS_Keras.ipynb",
      "provenance": [],
      "collapsed_sections": [],
      "mount_file_id": "1g4lktsNOa6F1paHpAbA9xAXTnNGm8xkx",
      "authorship_tag": "ABX9TyNEn3pgM7UIrZePPFC2Z/Ax",
      "include_colab_link": true
    },
    "kernelspec": {
      "name": "python3",
      "display_name": "Python 3"
    },
    "language_info": {
      "name": "python"
    }
  },
  "cells": [
    {
      "cell_type": "markdown",
      "metadata": {
        "id": "view-in-github",
        "colab_type": "text"
      },
      "source": [
        "<a href=\"https://colab.research.google.com/github/AimjGuytidy/WQU-Thesis/blob/main/NBEATS_Keras1.ipynb\" target=\"_parent\"><img src=\"https://colab.research.google.com/assets/colab-badge.svg\" alt=\"Open In Colab\"/></a>"
      ]
    },
    {
      "cell_type": "code",
      "metadata": {
        "colab": {
          "base_uri": "https://localhost:8080/"
        },
        "id": "u2LuBiArxR4O",
        "outputId": "461af197-bd14-499c-f378-a9b04196d6fd"
      },
      "source": [
        "%pip install nbeats-keras"
      ],
      "execution_count": 5,
      "outputs": [
        {
          "output_type": "stream",
          "name": "stdout",
          "text": [
            "Requirement already satisfied: nbeats-keras in /usr/local/lib/python3.7/dist-packages (1.5.0)\n",
            "Requirement already satisfied: pandas in /usr/local/lib/python3.7/dist-packages (from nbeats-keras) (1.1.5)\n",
            "Requirement already satisfied: tensorflow in /usr/local/lib/python3.7/dist-packages (from nbeats-keras) (2.6.0)\n",
            "Requirement already satisfied: keras in /usr/local/lib/python3.7/dist-packages (from nbeats-keras) (2.6.0)\n",
            "Requirement already satisfied: numpy in /usr/local/lib/python3.7/dist-packages (from nbeats-keras) (1.19.5)\n",
            "Requirement already satisfied: matplotlib in /usr/local/lib/python3.7/dist-packages (from nbeats-keras) (3.2.2)\n",
            "Requirement already satisfied: python-dateutil>=2.1 in /usr/local/lib/python3.7/dist-packages (from matplotlib->nbeats-keras) (2.8.2)\n",
            "Requirement already satisfied: pyparsing!=2.0.4,!=2.1.2,!=2.1.6,>=2.0.1 in /usr/local/lib/python3.7/dist-packages (from matplotlib->nbeats-keras) (2.4.7)\n",
            "Requirement already satisfied: cycler>=0.10 in /usr/local/lib/python3.7/dist-packages (from matplotlib->nbeats-keras) (0.10.0)\n",
            "Requirement already satisfied: kiwisolver>=1.0.1 in /usr/local/lib/python3.7/dist-packages (from matplotlib->nbeats-keras) (1.3.2)\n",
            "Requirement already satisfied: six in /usr/local/lib/python3.7/dist-packages (from cycler>=0.10->matplotlib->nbeats-keras) (1.15.0)\n",
            "Requirement already satisfied: pytz>=2017.2 in /usr/local/lib/python3.7/dist-packages (from pandas->nbeats-keras) (2018.9)\n",
            "Requirement already satisfied: wrapt~=1.12.1 in /usr/local/lib/python3.7/dist-packages (from tensorflow->nbeats-keras) (1.12.1)\n",
            "Requirement already satisfied: gast==0.4.0 in /usr/local/lib/python3.7/dist-packages (from tensorflow->nbeats-keras) (0.4.0)\n",
            "Requirement already satisfied: opt-einsum~=3.3.0 in /usr/local/lib/python3.7/dist-packages (from tensorflow->nbeats-keras) (3.3.0)\n",
            "Requirement already satisfied: google-pasta~=0.2 in /usr/local/lib/python3.7/dist-packages (from tensorflow->nbeats-keras) (0.2.0)\n",
            "Requirement already satisfied: keras-preprocessing~=1.1.2 in /usr/local/lib/python3.7/dist-packages (from tensorflow->nbeats-keras) (1.1.2)\n",
            "Requirement already satisfied: astunparse~=1.6.3 in /usr/local/lib/python3.7/dist-packages (from tensorflow->nbeats-keras) (1.6.3)\n",
            "Requirement already satisfied: clang~=5.0 in /usr/local/lib/python3.7/dist-packages (from tensorflow->nbeats-keras) (5.0)\n",
            "Requirement already satisfied: tensorflow-estimator~=2.6 in /usr/local/lib/python3.7/dist-packages (from tensorflow->nbeats-keras) (2.6.0)\n",
            "Requirement already satisfied: tensorboard~=2.6 in /usr/local/lib/python3.7/dist-packages (from tensorflow->nbeats-keras) (2.6.0)\n",
            "Requirement already satisfied: termcolor~=1.1.0 in /usr/local/lib/python3.7/dist-packages (from tensorflow->nbeats-keras) (1.1.0)\n",
            "Requirement already satisfied: protobuf>=3.9.2 in /usr/local/lib/python3.7/dist-packages (from tensorflow->nbeats-keras) (3.17.3)\n",
            "Requirement already satisfied: h5py~=3.1.0 in /usr/local/lib/python3.7/dist-packages (from tensorflow->nbeats-keras) (3.1.0)\n",
            "Requirement already satisfied: grpcio<2.0,>=1.37.0 in /usr/local/lib/python3.7/dist-packages (from tensorflow->nbeats-keras) (1.41.0)\n",
            "Requirement already satisfied: absl-py~=0.10 in /usr/local/lib/python3.7/dist-packages (from tensorflow->nbeats-keras) (0.12.0)\n",
            "Requirement already satisfied: flatbuffers~=1.12.0 in /usr/local/lib/python3.7/dist-packages (from tensorflow->nbeats-keras) (1.12)\n",
            "Requirement already satisfied: typing-extensions~=3.7.4 in /usr/local/lib/python3.7/dist-packages (from tensorflow->nbeats-keras) (3.7.4.3)\n",
            "Requirement already satisfied: wheel~=0.35 in /usr/local/lib/python3.7/dist-packages (from tensorflow->nbeats-keras) (0.37.0)\n",
            "Requirement already satisfied: cached-property in /usr/local/lib/python3.7/dist-packages (from h5py~=3.1.0->tensorflow->nbeats-keras) (1.5.2)\n",
            "Requirement already satisfied: google-auth<2,>=1.6.3 in /usr/local/lib/python3.7/dist-packages (from tensorboard~=2.6->tensorflow->nbeats-keras) (1.35.0)\n",
            "Requirement already satisfied: tensorboard-plugin-wit>=1.6.0 in /usr/local/lib/python3.7/dist-packages (from tensorboard~=2.6->tensorflow->nbeats-keras) (1.8.0)\n",
            "Requirement already satisfied: google-auth-oauthlib<0.5,>=0.4.1 in /usr/local/lib/python3.7/dist-packages (from tensorboard~=2.6->tensorflow->nbeats-keras) (0.4.6)\n",
            "Requirement already satisfied: requests<3,>=2.21.0 in /usr/local/lib/python3.7/dist-packages (from tensorboard~=2.6->tensorflow->nbeats-keras) (2.23.0)\n",
            "Requirement already satisfied: markdown>=2.6.8 in /usr/local/lib/python3.7/dist-packages (from tensorboard~=2.6->tensorflow->nbeats-keras) (3.3.4)\n",
            "Requirement already satisfied: tensorboard-data-server<0.7.0,>=0.6.0 in /usr/local/lib/python3.7/dist-packages (from tensorboard~=2.6->tensorflow->nbeats-keras) (0.6.1)\n",
            "Requirement already satisfied: setuptools>=41.0.0 in /usr/local/lib/python3.7/dist-packages (from tensorboard~=2.6->tensorflow->nbeats-keras) (57.4.0)\n",
            "Requirement already satisfied: werkzeug>=0.11.15 in /usr/local/lib/python3.7/dist-packages (from tensorboard~=2.6->tensorflow->nbeats-keras) (1.0.1)\n",
            "Requirement already satisfied: cachetools<5.0,>=2.0.0 in /usr/local/lib/python3.7/dist-packages (from google-auth<2,>=1.6.3->tensorboard~=2.6->tensorflow->nbeats-keras) (4.2.4)\n",
            "Requirement already satisfied: pyasn1-modules>=0.2.1 in /usr/local/lib/python3.7/dist-packages (from google-auth<2,>=1.6.3->tensorboard~=2.6->tensorflow->nbeats-keras) (0.2.8)\n",
            "Requirement already satisfied: rsa<5,>=3.1.4 in /usr/local/lib/python3.7/dist-packages (from google-auth<2,>=1.6.3->tensorboard~=2.6->tensorflow->nbeats-keras) (4.7.2)\n",
            "Requirement already satisfied: requests-oauthlib>=0.7.0 in /usr/local/lib/python3.7/dist-packages (from google-auth-oauthlib<0.5,>=0.4.1->tensorboard~=2.6->tensorflow->nbeats-keras) (1.3.0)\n",
            "Requirement already satisfied: importlib-metadata in /usr/local/lib/python3.7/dist-packages (from markdown>=2.6.8->tensorboard~=2.6->tensorflow->nbeats-keras) (4.8.1)\n",
            "Requirement already satisfied: pyasn1<0.5.0,>=0.4.6 in /usr/local/lib/python3.7/dist-packages (from pyasn1-modules>=0.2.1->google-auth<2,>=1.6.3->tensorboard~=2.6->tensorflow->nbeats-keras) (0.4.8)\n",
            "Requirement already satisfied: chardet<4,>=3.0.2 in /usr/local/lib/python3.7/dist-packages (from requests<3,>=2.21.0->tensorboard~=2.6->tensorflow->nbeats-keras) (3.0.4)\n",
            "Requirement already satisfied: idna<3,>=2.5 in /usr/local/lib/python3.7/dist-packages (from requests<3,>=2.21.0->tensorboard~=2.6->tensorflow->nbeats-keras) (2.10)\n",
            "Requirement already satisfied: certifi>=2017.4.17 in /usr/local/lib/python3.7/dist-packages (from requests<3,>=2.21.0->tensorboard~=2.6->tensorflow->nbeats-keras) (2021.5.30)\n",
            "Requirement already satisfied: urllib3!=1.25.0,!=1.25.1,<1.26,>=1.21.1 in /usr/local/lib/python3.7/dist-packages (from requests<3,>=2.21.0->tensorboard~=2.6->tensorflow->nbeats-keras) (1.24.3)\n",
            "Requirement already satisfied: oauthlib>=3.0.0 in /usr/local/lib/python3.7/dist-packages (from requests-oauthlib>=0.7.0->google-auth-oauthlib<0.5,>=0.4.1->tensorboard~=2.6->tensorflow->nbeats-keras) (3.1.1)\n",
            "Requirement already satisfied: zipp>=0.5 in /usr/local/lib/python3.7/dist-packages (from importlib-metadata->markdown>=2.6.8->tensorboard~=2.6->tensorflow->nbeats-keras) (3.6.0)\n"
          ]
        }
      ]
    },
    {
      "cell_type": "code",
      "metadata": {
        "id": "I9EYzReDyE-6"
      },
      "source": [
        "import os\n",
        "\n",
        "import numpy as np\n",
        "import pandas as pd\n",
        "import tensorflow as tf\n",
        "from tensorflow.keras.callbacks import Callback\n",
        "\n",
        "from nbeats_keras.model import NBeatsNet"
      ],
      "execution_count": 6,
      "outputs": []
    },
    {
      "cell_type": "code",
      "metadata": {
        "id": "TsZq0bROyPhG"
      },
      "source": [
        "pd.set_option('display.max_rows', None)\n",
        "pd.set_option('display.max_columns', None)\n",
        "pd.set_option('display.width', None)"
      ],
      "execution_count": 7,
      "outputs": []
    },
    {
      "cell_type": "code",
      "metadata": {
        "colab": {
          "base_uri": "https://localhost:8080/"
        },
        "id": "iuGtazvhyVu2",
        "outputId": "a7cb92a8-e2e2-4043-f6a6-255f4239743c"
      },
      "source": [
        "df = pd.read_csv('/content/oil.csv')\n",
        "print(df.head())\n",
        "print(len(df))"
      ],
      "execution_count": 8,
      "outputs": [
        {
          "output_type": "stream",
          "name": "stdout",
          "text": [
            "           Date  Price\n",
            "0  Aug 25, 2017  47.65\n",
            "1  Aug 28, 2017  46.40\n",
            "2  Aug 29, 2017  46.46\n",
            "3  Aug 30, 2017  45.96\n",
            "4  Aug 31, 2017  47.26\n",
            "1005\n"
          ]
        }
      ]
    },
    {
      "cell_type": "code",
      "metadata": {
        "colab": {
          "base_uri": "https://localhost:8080/",
          "height": 204
        },
        "id": "um38d-AXylIv",
        "outputId": "85de609b-2a58-4f08-b0a7-14e475625fa1"
      },
      "source": [
        "df['Date'] = pd.to_datetime(df['Date'])\n",
        "df.head()"
      ],
      "execution_count": 9,
      "outputs": [
        {
          "output_type": "execute_result",
          "data": {
            "text/html": [
              "<div>\n",
              "<style scoped>\n",
              "    .dataframe tbody tr th:only-of-type {\n",
              "        vertical-align: middle;\n",
              "    }\n",
              "\n",
              "    .dataframe tbody tr th {\n",
              "        vertical-align: top;\n",
              "    }\n",
              "\n",
              "    .dataframe thead th {\n",
              "        text-align: right;\n",
              "    }\n",
              "</style>\n",
              "<table border=\"1\" class=\"dataframe\">\n",
              "  <thead>\n",
              "    <tr style=\"text-align: right;\">\n",
              "      <th></th>\n",
              "      <th>Date</th>\n",
              "      <th>Price</th>\n",
              "    </tr>\n",
              "  </thead>\n",
              "  <tbody>\n",
              "    <tr>\n",
              "      <th>0</th>\n",
              "      <td>2017-08-25</td>\n",
              "      <td>47.65</td>\n",
              "    </tr>\n",
              "    <tr>\n",
              "      <th>1</th>\n",
              "      <td>2017-08-28</td>\n",
              "      <td>46.40</td>\n",
              "    </tr>\n",
              "    <tr>\n",
              "      <th>2</th>\n",
              "      <td>2017-08-29</td>\n",
              "      <td>46.46</td>\n",
              "    </tr>\n",
              "    <tr>\n",
              "      <th>3</th>\n",
              "      <td>2017-08-30</td>\n",
              "      <td>45.96</td>\n",
              "    </tr>\n",
              "    <tr>\n",
              "      <th>4</th>\n",
              "      <td>2017-08-31</td>\n",
              "      <td>47.26</td>\n",
              "    </tr>\n",
              "  </tbody>\n",
              "</table>\n",
              "</div>"
            ],
            "text/plain": [
              "        Date  Price\n",
              "0 2017-08-25  47.65\n",
              "1 2017-08-28  46.40\n",
              "2 2017-08-29  46.46\n",
              "3 2017-08-30  45.96\n",
              "4 2017-08-31  47.26"
            ]
          },
          "metadata": {},
          "execution_count": 9
        }
      ]
    },
    {
      "cell_type": "code",
      "metadata": {
        "colab": {
          "base_uri": "https://localhost:8080/"
        },
        "id": "PT-weXEMypxG",
        "outputId": "ee8a05c2-5d7e-4852-a135-5eb900766826"
      },
      "source": [
        "df.values.flatten()"
      ],
      "execution_count": 10,
      "outputs": [
        {
          "output_type": "execute_result",
          "data": {
            "text/plain": [
              "array([Timestamp('2017-08-25 00:00:00'), 47.65,\n",
              "       Timestamp('2017-08-28 00:00:00'), ..., 68.84,\n",
              "       Timestamp('2021-08-30 00:00:00'), 69.28], dtype=object)"
            ]
          },
          "metadata": {},
          "execution_count": 10
        }
      ]
    },
    {
      "cell_type": "code",
      "metadata": {
        "id": "6lRp09Qdzh9b"
      },
      "source": [
        "def univariate_data(dataset, start_index, end_index, history_size, target_size):\n",
        "    data = []\n",
        "    labels = []\n",
        "\n",
        "    start_index = start_index + history_size\n",
        "    if end_index is None:\n",
        "        end_index = len(dataset) - target_size\n",
        "\n",
        "    for i in range(start_index, end_index):\n",
        "        indices = range(i - history_size, i)\n",
        "        # Reshape data from (history_size,) to (history_size, 1)\n",
        "        data.append(np.reshape(dataset[indices], (history_size, 1)))\n",
        "        labels.append(dataset[i + target_size])\n",
        "    data = np.array(data)\n",
        "    labels = np.array(labels)\n",
        "    return data.reshape(data.shape[0], data.shape[1], 1), labels.reshape(labels.shape[0], 1, 1)"
      ],
      "execution_count": 11,
      "outputs": []
    },
    {
      "cell_type": "code",
      "metadata": {
        "id": "BAaus1e00cp9"
      },
      "source": [
        "class DataNormalizer:\n",
        "\n",
        "    def __init__(self, train):\n",
        "        self.uni_train_mean = train.mean()\n",
        "        self.uni_train_std = train.std()\n",
        "\n",
        "    def apply(self, x):\n",
        "        return (x - self.uni_train_mean) / self.uni_train_std\n",
        "\n",
        "    def apply_inv(self, x):\n",
        "        return x * self.uni_train_std + self.uni_train_mean"
      ],
      "execution_count": 12,
      "outputs": []
    },
    {
      "cell_type": "code",
      "metadata": {
        "id": "C3NkY1160cZE"
      },
      "source": [
        ""
      ],
      "execution_count": 12,
      "outputs": []
    },
    {
      "cell_type": "code",
      "metadata": {
        "id": "RdL5Fn81z1nE"
      },
      "source": [
        "TRAIN_SPLIT = 805\n",
        "\n",
        "uni_data = df['Price']\n",
        "uni_data.index = df['Date']\n",
        "\n",
        "uni_data = uni_data.values"
      ],
      "execution_count": 13,
      "outputs": []
    },
    {
      "cell_type": "code",
      "metadata": {
        "colab": {
          "base_uri": "https://localhost:8080/"
        },
        "id": "tQ2LxHK70_AY",
        "outputId": "2ea42d1f-7c12-46da-e27c-63927726ba40"
      },
      "source": [
        "uni_data"
      ],
      "execution_count": 14,
      "outputs": [
        {
          "output_type": "execute_result",
          "data": {
            "text/plain": [
              "array([47.65, 46.4 , 46.46, ..., 67.42, 68.84, 69.28])"
            ]
          },
          "metadata": {},
          "execution_count": 14
        }
      ]
    },
    {
      "cell_type": "code",
      "metadata": {
        "colab": {
          "base_uri": "https://localhost:8080/"
        },
        "id": "TqnYfd851BG3",
        "outputId": "b58c0186-6436-4cad-ae47-9a0eb89e72a1"
      },
      "source": [
        "dn = DataNormalizer(train=uni_data[:TRAIN_SPLIT])\n",
        "uni_train_mean = uni_data[:TRAIN_SPLIT].mean()\n",
        "uni_train_std = uni_data[:TRAIN_SPLIT].std()\n",
        "\n",
        "uni_data = dn.apply(uni_data)\n",
        "\n",
        "univariate_past_history = 20\n",
        "univariate_future_target = 0\n",
        "\n",
        "x_train_uni, y_train_uni = univariate_data(uni_data, 0, TRAIN_SPLIT,\n",
        "                                           univariate_past_history,\n",
        "                                           univariate_future_target)\n",
        "x_val_uni, y_val_uni = univariate_data(uni_data, TRAIN_SPLIT, None,\n",
        "                                       univariate_past_history,\n",
        "                                       univariate_future_target)\n",
        "\n",
        "print('x_train_uni.shape=', x_train_uni.shape)\n",
        "print('y_train_uni.shape=', y_train_uni.shape)\n",
        "print('x_val_uni.shape=', x_val_uni.shape)\n",
        "print('y_val_uni.shape=', y_val_uni.shape)"
      ],
      "execution_count": 15,
      "outputs": [
        {
          "output_type": "stream",
          "name": "stdout",
          "text": [
            "x_train_uni.shape= (785, 20, 1)\n",
            "y_train_uni.shape= (785, 1, 1)\n",
            "x_val_uni.shape= (180, 20, 1)\n",
            "y_val_uni.shape= (180, 1, 1)\n"
          ]
        }
      ]
    },
    {
      "cell_type": "code",
      "metadata": {
        "colab": {
          "base_uri": "https://localhost:8080/"
        },
        "id": "V1THa02L1Ymt",
        "outputId": "0b5f96dc-4edc-43ab-a867-4456a991aec2"
      },
      "source": [
        "b_val_uni = np.mean(x_val_uni, axis=1)[..., 0]\n",
        "print(np.mean(np.abs(b_val_uni - y_val_uni)))\n",
        "print(np.mean(np.abs(dn.apply_inv(b_val_uni) - dn.apply_inv(y_val_uni))))"
      ],
      "execution_count": 16,
      "outputs": [
        {
          "output_type": "stream",
          "name": "stdout",
          "text": [
            "0.70700408120963\n",
            "9.16352061728395\n"
          ]
        }
      ]
    },
    {
      "cell_type": "code",
      "metadata": {
        "colab": {
          "base_uri": "https://localhost:8080/"
        },
        "id": "EH4IqPvb1190",
        "outputId": "bc0bbfbb-de10-4b99-cd87-2022c4837311"
      },
      "source": [
        "b2_val_uni = x_val_uni[:, -1, 0]\n",
        "print(np.mean(np.abs(b2_val_uni - y_val_uni)))\n",
        "print(np.mean(np.abs(dn.apply_inv(b2_val_uni) - dn.apply_inv(y_val_uni))))"
      ],
      "execution_count": 17,
      "outputs": [
        {
          "output_type": "stream",
          "name": "stdout",
          "text": [
            "0.6721394137540546\n",
            "8.711637654320988\n"
          ]
        }
      ]
    },
    {
      "cell_type": "code",
      "metadata": {
        "id": "KHys542i2JUN"
      },
      "source": [
        "m = NBeatsNet(\n",
        "    stack_types=(NBeatsNet.GENERIC_BLOCK, NBeatsNet.GENERIC_BLOCK, NBeatsNet.GENERIC_BLOCK),\n",
        "    nb_blocks_per_stack=3,\n",
        "    forecast_length=1,\n",
        "    backcast_length=univariate_past_history,\n",
        "    thetas_dim=(15, 15, 15),\n",
        "    share_weights_in_stack=False,\n",
        "    hidden_layer_units=384)\n",
        "m.compile(loss='mse', optimizer='adam')"
      ],
      "execution_count": 18,
      "outputs": []
    },
    {
      "cell_type": "code",
      "metadata": {
        "id": "A8p9sGqN2YXX"
      },
      "source": [
        "class EvaluateModelCallback(Callback):\n",
        "\n",
        "    def on_epoch_end(self, epoch, logs=None):\n",
        "        b3_val_uni = m.predict(x_val_uni)\n",
        "        print(f'[{epoch}] b3_val_uni.shape=', b3_val_uni.shape)\n",
        "        print(np.mean(np.abs(b3_val_uni - y_val_uni)))\n",
        "        print(np.mean(np.abs(dn.apply_inv(b3_val_uni) - dn.apply_inv(y_val_uni))))\n",
        "        print(f'MAPE:{np.mean(np.abs((dn.apply_inv(b3_val_uni) - dn.apply_inv(y_val_uni))/dn.apply_inv(y_val_uni)))}')\n",
        "        print(f'RMSE:{np.sqrt(np.mean(np.square(dn.apply_inv(b3_val_uni) - dn.apply_inv(y_val_uni))))}')\n",
        "        print('*' * 80)"
      ],
      "execution_count": 34,
      "outputs": []
    },
    {
      "cell_type": "code",
      "metadata": {
        "colab": {
          "base_uri": "https://localhost:8080/"
        },
        "id": "4BCMePYR2lyj",
        "outputId": "ed829fc6-3fe8-49e1-b697-d307b49c60ad"
      },
      "source": [
        "tf.random.set_seed(42)\n",
        "m.fit(x_train_uni, y_train_uni,\n",
        "      epochs=20, validation_split=0.1, shuffle=True,\n",
        "      callbacks=[EvaluateModelCallback()])"
      ],
      "execution_count": 35,
      "outputs": [
        {
          "output_type": "stream",
          "name": "stdout",
          "text": [
            "Epoch 1/20\n",
            "23/23 [==============================] - 2s 57ms/step - loss: 0.0361 - val_loss: 0.0096\n",
            "[0] b3_val_uni.shape= (180, 1, 1)\n",
            "0.08531408754036436\n",
            "1.105760462443034\n",
            "MAPE:0.017564733659554344\n",
            "RMSE:1.4886134725861082\n",
            "********************************************************************************\n",
            "Epoch 2/20\n",
            "23/23 [==============================] - 1s 48ms/step - loss: 0.0330 - val_loss: 0.0093\n",
            "[1] b3_val_uni.shape= (180, 1, 1)\n",
            "0.07917447443664564\n",
            "1.026185140821669\n",
            "MAPE:0.01635338638377596\n",
            "RMSE:1.386816967258987\n",
            "********************************************************************************\n",
            "Epoch 3/20\n",
            "23/23 [==============================] - 1s 50ms/step - loss: 0.0348 - val_loss: 0.0330\n",
            "[2] b3_val_uni.shape= (180, 1, 1)\n",
            "0.08178702644530644\n",
            "1.0600464731852215\n",
            "MAPE:0.01697680458092659\n",
            "RMSE:1.361582729394261\n",
            "********************************************************************************\n",
            "Epoch 4/20\n",
            "23/23 [==============================] - 1s 48ms/step - loss: 0.0405 - val_loss: 0.0107\n",
            "[3] b3_val_uni.shape= (180, 1, 1)\n",
            "0.0897630795013565\n",
            "1.163423969692654\n",
            "MAPE:0.01889236663392418\n",
            "RMSE:1.499551415218806\n",
            "********************************************************************************\n",
            "Epoch 5/20\n",
            "23/23 [==============================] - 1s 48ms/step - loss: 0.0314 - val_loss: 0.0068\n",
            "[4] b3_val_uni.shape= (180, 1, 1)\n",
            "0.10355642803946428\n",
            "1.3422016694810657\n",
            "MAPE:0.021144221069847518\n",
            "RMSE:1.6414346257524621\n",
            "********************************************************************************\n",
            "Epoch 6/20\n",
            "23/23 [==============================] - 1s 49ms/step - loss: 0.0325 - val_loss: 0.0318\n",
            "[5] b3_val_uni.shape= (180, 1, 1)\n",
            "0.09025982288184661\n",
            "1.1698629608154296\n",
            "MAPE:0.019241762369221625\n",
            "RMSE:1.4882433852051553\n",
            "********************************************************************************\n",
            "Epoch 7/20\n",
            "23/23 [==============================] - 1s 48ms/step - loss: 0.0321 - val_loss: 0.0147\n",
            "[6] b3_val_uni.shape= (180, 1, 1)\n",
            "0.10256374449891287\n",
            "1.3293354314168295\n",
            "MAPE:0.0207256666642852\n",
            "RMSE:1.6468881133841253\n",
            "********************************************************************************\n",
            "Epoch 8/20\n",
            "23/23 [==============================] - 1s 48ms/step - loss: 0.0300 - val_loss: 0.0530\n",
            "[7] b3_val_uni.shape= (180, 1, 1)\n",
            "0.07807596466595855\n",
            "1.0119474004109703\n",
            "MAPE:0.016054066340080025\n",
            "RMSE:1.3180157478159025\n",
            "********************************************************************************\n",
            "Epoch 9/20\n",
            "23/23 [==============================] - 1s 48ms/step - loss: 0.0251 - val_loss: 0.0341\n",
            "[8] b3_val_uni.shape= (180, 1, 1)\n",
            "0.11939543114467543\n",
            "1.5474923248291015\n",
            "MAPE:0.02436119486599924\n",
            "RMSE:1.8407967259575777\n",
            "********************************************************************************\n",
            "Epoch 10/20\n",
            "23/23 [==============================] - 1s 48ms/step - loss: 0.0320 - val_loss: 0.0095\n",
            "[9] b3_val_uni.shape= (180, 1, 1)\n",
            "0.100417311270075\n",
            "1.3015151223076713\n",
            "MAPE:0.020196316168703286\n",
            "RMSE:1.6252913322916067\n",
            "********************************************************************************\n",
            "Epoch 11/20\n",
            "23/23 [==============================] - 1s 47ms/step - loss: 0.0455 - val_loss: 0.0106\n",
            "[10] b3_val_uni.shape= (180, 1, 1)\n",
            "0.0802620153813895\n",
            "1.0402809202406138\n",
            "MAPE:0.01651017723196771\n",
            "RMSE:1.3899410502503682\n",
            "********************************************************************************\n",
            "Epoch 12/20\n",
            "23/23 [==============================] - 1s 47ms/step - loss: 0.0418 - val_loss: 0.0202\n",
            "[11] b3_val_uni.shape= (180, 1, 1)\n",
            "0.08344792379156894\n",
            "1.081573078579373\n",
            "MAPE:0.01729146728232861\n",
            "RMSE:1.3866948438411324\n",
            "********************************************************************************\n",
            "Epoch 13/20\n",
            "23/23 [==============================] - 1s 47ms/step - loss: 0.0358 - val_loss: 0.0243\n",
            "[12] b3_val_uni.shape= (180, 1, 1)\n",
            "0.11338310320506656\n",
            "1.469566005282932\n",
            "MAPE:0.02292927235838897\n",
            "RMSE:1.8503208743465092\n",
            "********************************************************************************\n",
            "Epoch 14/20\n",
            "23/23 [==============================] - 1s 46ms/step - loss: 0.0233 - val_loss: 0.0155\n",
            "[13] b3_val_uni.shape= (180, 1, 1)\n",
            "0.07590541131698762\n",
            "0.9838142200046117\n",
            "MAPE:0.015590052656113993\n",
            "RMSE:1.3346352078212476\n",
            "********************************************************************************\n",
            "Epoch 15/20\n",
            "23/23 [==============================] - 1s 47ms/step - loss: 0.0146 - val_loss: 0.0222\n",
            "[14] b3_val_uni.shape= (180, 1, 1)\n",
            "0.08208733942455629\n",
            "1.0639389538235133\n",
            "MAPE:0.01685038198907235\n",
            "RMSE:1.398579270256775\n",
            "********************************************************************************\n",
            "Epoch 16/20\n",
            "23/23 [==============================] - 1s 47ms/step - loss: 0.0325 - val_loss: 0.0582\n",
            "[15] b3_val_uni.shape= (180, 1, 1)\n",
            "0.21608051774057968\n",
            "2.80063348642985\n",
            "MAPE:0.04461895902033038\n",
            "RMSE:3.092353165257603\n",
            "********************************************************************************\n",
            "Epoch 17/20\n",
            "23/23 [==============================] - 1s 47ms/step - loss: 0.0367 - val_loss: 0.0135\n",
            "[16] b3_val_uni.shape= (180, 1, 1)\n",
            "0.094564441963299\n",
            "1.225655721028646\n",
            "MAPE:0.019212612255137387\n",
            "RMSE:1.5463475319049589\n",
            "********************************************************************************\n",
            "Epoch 18/20\n",
            "23/23 [==============================] - 1s 46ms/step - loss: 0.0327 - val_loss: 0.0616\n",
            "[17] b3_val_uni.shape= (180, 1, 1)\n",
            "0.1038789330489394\n",
            "1.3463809772067603\n",
            "MAPE:0.022123481511389147\n",
            "RMSE:1.6545711194520578\n",
            "********************************************************************************\n",
            "Epoch 19/20\n",
            "23/23 [==============================] - 1s 47ms/step - loss: 0.0647 - val_loss: 0.0380\n",
            "[18] b3_val_uni.shape= (180, 1, 1)\n",
            "0.13380011452278484\n",
            "1.73419209628635\n",
            "MAPE:0.026700043261194652\n",
            "RMSE:2.054340724987819\n",
            "********************************************************************************\n",
            "Epoch 20/20\n",
            "23/23 [==============================] - 1s 47ms/step - loss: 0.0727 - val_loss: 0.0083\n",
            "[19] b3_val_uni.shape= (180, 1, 1)\n",
            "0.08469194465105861\n",
            "1.0976974631415475\n",
            "MAPE:0.017391486474354286\n",
            "RMSE:1.4298388318479252\n",
            "********************************************************************************\n"
          ]
        },
        {
          "output_type": "execute_result",
          "data": {
            "text/plain": [
              "<keras.callbacks.History at 0x7efc87f0ef50>"
            ]
          },
          "metadata": {},
          "execution_count": 35
        }
      ]
    },
    {
      "cell_type": "code",
      "metadata": {
        "colab": {
          "base_uri": "https://localhost:8080/"
        },
        "id": "R8RPUyNV2zV9",
        "outputId": "9b0c1606-8cb8-4c3d-bc5f-96e9b39c24f9"
      },
      "source": [
        "0.0141**0.5"
      ],
      "execution_count": 31,
      "outputs": [
        {
          "output_type": "execute_result",
          "data": {
            "text/plain": [
              "0.11874342087037917"
            ]
          },
          "metadata": {},
          "execution_count": 31
        }
      ]
    },
    {
      "cell_type": "code",
      "metadata": {
        "colab": {
          "base_uri": "https://localhost:8080/"
        },
        "id": "K-xldHm131_F",
        "outputId": "c9e145b2-1cde-48c9-efb0-a6610419ddf1"
      },
      "source": [
        "m.forecast_length"
      ],
      "execution_count": null,
      "outputs": [
        {
          "output_type": "execute_result",
          "data": {
            "text/plain": [
              "1"
            ]
          },
          "metadata": {},
          "execution_count": 23
        }
      ]
    },
    {
      "cell_type": "code",
      "metadata": {
        "id": "-pzlR4Ht4Ary"
      },
      "source": [
        "prediction = m.predict(x_val_uni).flatten()"
      ],
      "execution_count": 21,
      "outputs": []
    },
    {
      "cell_type": "code",
      "metadata": {
        "id": "Q30_5a934R0m"
      },
      "source": [
        "true_val = y_val_uni.flatten()"
      ],
      "execution_count": 22,
      "outputs": []
    },
    {
      "cell_type": "code",
      "metadata": {
        "id": "ocr9q0EH4Zz1"
      },
      "source": [
        "from sklearn.metrics import r2_score"
      ],
      "execution_count": 23,
      "outputs": []
    },
    {
      "cell_type": "code",
      "metadata": {
        "colab": {
          "base_uri": "https://localhost:8080/"
        },
        "id": "QNnG0Vrg45u2",
        "outputId": "11477101-23fc-484f-d994-a01d435c4f82"
      },
      "source": [
        "r2_score(true_val,prediction)"
      ],
      "execution_count": 24,
      "outputs": [
        {
          "output_type": "execute_result",
          "data": {
            "text/plain": [
              "0.96817177630108"
            ]
          },
          "metadata": {},
          "execution_count": 24
        }
      ]
    },
    {
      "cell_type": "code",
      "metadata": {
        "colab": {
          "base_uri": "https://localhost:8080/"
        },
        "id": "xvd38K-Q5COT",
        "outputId": "4d5cd0a6-2859-44db-db72-410ffa319b4b"
      },
      "source": [
        "k = dn.apply_inv(true_val)\n",
        "k"
      ],
      "execution_count": null,
      "outputs": [
        {
          "output_type": "execute_result",
          "data": {
            "text/plain": [
              "array([46.59, 47.02, 47.58, 47.86, 48.34, 49.04, 47.79, 47.02, 47.94,\n",
              "       48.18, 47.5 , 47.85, 48.24, 48.35, 47.47, 49.78, 50.45, 50.63,\n",
              "       52.14, 52.15, 53.08, 52.81, 53.47, 52.25, 52.87, 53.16, 53.  ,\n",
              "       52.28, 52.78, 52.61, 52.81, 52.26, 52.16, 53.55, 54.77, 55.67,\n",
              "       56.19, 56.8 , 57.95, 58.34, 58.69, 58.22, 59.5 , 60.07, 61.09,\n",
              "       60.4 , 59.12, 61.67, 61.66, 63.21, 63.43, 61.55, 60.54, 59.7 ,\n",
              "       61.33, 63.81, 66.08, 65.03, 64.02, 64.45, 66.02, 65.59, 65.36,\n",
              "       64.82, 64.55, 59.95, 61.43, 61.48, 57.75, 61.12, 58.47, 60.93,\n",
              "       61.49, 60.55, 59.19, 61.41, 58.73, 59.34, 59.77, 59.61, 59.29,\n",
              "       59.7 , 60.2 , 63.15, 63.42, 63.16, 63.33, 62.61, 61.34, 61.45,\n",
              "       62.18, 62.02, 63.03, 63.81, 65.  , 63.5 , 64.46, 65.72, 65.63,\n",
              "       64.73, 64.96, 64.92, 65.31, 65.96, 63.82, 65.32, 66.24, 65.49,\n",
              "       63.28, 61.95, 63.61, 66.13, 66.27, 66.41, 66.87, 66.31, 67.8 ,\n",
              "       68.79, 68.81, 69.57, 69.21, 70.11, 69.9 , 70.34, 71.  , 70.94,\n",
              "       72.06, 72.03, 71.06, 71.64, 73.64, 73.15, 73.11, 73.31, 74.21,\n",
              "       72.98, 73.14, 73.52, 75.33, 75.37, 73.62, 72.22, 72.98, 74.56,\n",
              "       74.21, 75.24, 73.06, 71.67, 71.76, 66.45, 67.32, 70.26, 72.15,\n",
              "       72.24, 72.15, 71.68, 72.37, 73.62, 73.93, 71.31, 70.64, 68.19,\n",
              "       69.1 , 68.26, 66.56, 68.33, 69.3 , 69.12, 68.36, 67.44, 66.5 ,\n",
              "       65.36, 63.69, 62.25, 65.65, 67.5 , 68.54, 67.42, 68.84, 69.28])"
            ]
          },
          "metadata": {},
          "execution_count": 31
        }
      ]
    },
    {
      "cell_type": "code",
      "metadata": {
        "colab": {
          "base_uri": "https://localhost:8080/"
        },
        "id": "VuPBnshb53Hf",
        "outputId": "bcda5de6-af2b-4db2-9a5f-7bd91f496848"
      },
      "source": [
        "j = dn.apply_inv(prediction)\n",
        "j"
      ],
      "execution_count": null,
      "outputs": [
        {
          "output_type": "execute_result",
          "data": {
            "text/plain": [
              "array([46.718735, 46.769672, 47.058426, 47.572334, 48.12935 , 48.340652,\n",
              "       48.710785, 48.21961 , 47.845856, 48.25618 , 48.565395, 48.255173,\n",
              "       48.35683 , 48.5735  , 48.88618 , 48.327194, 49.488503, 50.172794,\n",
              "       50.57487 , 51.488766, 51.787556, 52.316048, 52.706238, 52.944794,\n",
              "       52.811882, 53.019672, 52.926723, 53.212914, 52.746155, 53.093803,\n",
              "       53.181705, 53.263287, 52.81954 , 52.667286, 53.92825 , 54.82098 ,\n",
              "       55.471333, 56.062206, 56.718014, 57.690414, 58.14055 , 58.39796 ,\n",
              "       58.256657, 58.922054, 59.560608, 60.286358, 60.060104, 59.663593,\n",
              "       60.8704  , 61.643463, 62.422928, 62.996136, 62.199215, 61.04477 ,\n",
              "       60.299934, 61.2797  , 63.51421 , 65.26537 , 65.05855 , 64.419525,\n",
              "       64.49851 , 65.873535, 65.79566 , 65.95643 , 65.537155, 64.94952 ,\n",
              "       61.345737, 61.949806, 62.12728 , 59.354397, 61.40971 , 59.853935,\n",
              "       60.21325 , 61.422516, 61.67184 , 60.654964, 61.90306 , 60.332638,\n",
              "       59.921497, 60.16074 , 59.677197, 59.475986, 59.956726, 61.025272,\n",
              "       62.749706, 63.563595, 63.69246 , 63.635956, 63.294037, 62.328613,\n",
              "       62.113884, 62.5691  , 62.43252 , 63.015713, 64.02216 , 65.02908 ,\n",
              "       64.08113 , 64.882126, 65.81051 , 65.84239 , 65.18224 , 65.44072 ,\n",
              "       65.35378 , 65.561584, 66.33863 , 64.9625  , 65.775986, 66.74026 ,\n",
              "       66.169945, 64.045044, 62.96337 , 64.05985 , 65.94123 , 66.40717 ,\n",
              "       66.69433 , 67.347404, 67.296616, 68.22661 , 68.66633 , 69.140114,\n",
              "       69.849495, 69.80759 , 70.05959 , 69.99194 , 70.600685, 71.59747 ,\n",
              "       71.53107 , 72.06259 , 72.05176 , 71.31559 , 71.89394 , 73.61932 ,\n",
              "       73.44982 , 73.42153 , 73.62766 , 74.39296 , 73.70595 , 73.77875 ,\n",
              "       74.12979 , 75.27851 , 75.68211 , 74.74558 , 73.38286 , 73.63341 ,\n",
              "       74.82325 , 74.77134 , 75.57901 , 74.3293  , 72.95907 , 72.6958  ,\n",
              "       68.63676 , 68.50456 , 70.84507 , 72.16445 , 72.413055, 72.86    ,\n",
              "       72.83005 , 73.64939 , 74.643875, 74.985916, 73.21431 , 71.85238 ,\n",
              "       69.96896 , 69.45652 , 69.175285, 68.08116 , 68.999344, 69.93807 ,\n",
              "       69.329285, 68.84021 , 68.85231 , 68.47367 , 67.44736 , 65.69332 ,\n",
              "       64.06528 , 65.5463  , 67.22525 , 68.676575, 68.145676, 69.65023 ],\n",
              "      dtype=float32)"
            ]
          },
          "metadata": {},
          "execution_count": 32
        }
      ]
    },
    {
      "cell_type": "code",
      "metadata": {
        "id": "gMgx5TmG6Cbd"
      },
      "source": [
        "import matplotlib.pyplot as plt\n",
        "%matplotlib inline"
      ],
      "execution_count": null,
      "outputs": []
    },
    {
      "cell_type": "code",
      "metadata": {
        "colab": {
          "base_uri": "https://localhost:8080/",
          "height": 265
        },
        "id": "P-yxPj_I6Wm4",
        "outputId": "a5cf160f-2295-4f52-e399-2bd34054924f"
      },
      "source": [
        "plt.plot(k,label='True values')\n",
        "plt.plot(j,label='Predicted value')\n",
        "plt.legend()\n",
        "plt.show()"
      ],
      "execution_count": null,
      "outputs": [
        {
          "output_type": "display_data",
          "data": {
            "image/png": "[encoded data removed]",
            "text/plain": [
              "<Figure size 432x288 with 1 Axes>"
            ]
          },
          "metadata": {
            "needs_background": "light"
          }
        }
      ]
    },
    {
      "cell_type": "code",
      "metadata": {
        "colab": {
          "base_uri": "https://localhost:8080/"
        },
        "id": "0H4EQXih6nME",
        "outputId": "ac699909-8fd8-4bc1-be9d-bdee20daa780"
      },
      "source": [
        "y_val_uni.shape"
      ],
      "execution_count": null,
      "outputs": [
        {
          "output_type": "execute_result",
          "data": {
            "text/plain": [
              "(180, 1, 1)"
            ]
          },
          "metadata": {},
          "execution_count": 36
        }
      ]
    },
    {
      "cell_type": "code",
      "metadata": {
        "colab": {
          "base_uri": "https://localhost:8080/",
          "height": 235
        },
        "id": "_u-n5q4a7SmG",
        "outputId": "3eb06ae6-8e35-424b-dca6-a73dbb2f12bf"
      },
      "source": [
        "ts = pd.read_csv('/content/predict.csv',index_col=0,parse_dates=True)\n",
        "ts.head()"
      ],
      "execution_count": null,
      "outputs": [
        {
          "output_type": "execute_result",
          "data": {
            "text/html": [
              "<div>\n",
              "<style scoped>\n",
              "    .dataframe tbody tr th:only-of-type {\n",
              "        vertical-align: middle;\n",
              "    }\n",
              "\n",
              "    .dataframe tbody tr th {\n",
              "        vertical-align: top;\n",
              "    }\n",
              "\n",
              "    .dataframe thead th {\n",
              "        text-align: right;\n",
              "    }\n",
              "</style>\n",
              "<table border=\"1\" class=\"dataframe\">\n",
              "  <thead>\n",
              "    <tr style=\"text-align: right;\">\n",
              "      <th></th>\n",
              "      <th>Prices</th>\n",
              "    </tr>\n",
              "    <tr>\n",
              "      <th>Date</th>\n",
              "      <th></th>\n",
              "    </tr>\n",
              "  </thead>\n",
              "  <tbody>\n",
              "    <tr>\n",
              "      <th>2021-08-31</th>\n",
              "      <td>68.43</td>\n",
              "    </tr>\n",
              "    <tr>\n",
              "      <th>2021-09-01</th>\n",
              "      <td>68.63</td>\n",
              "    </tr>\n",
              "    <tr>\n",
              "      <th>2021-09-02</th>\n",
              "      <td>70.07</td>\n",
              "    </tr>\n",
              "    <tr>\n",
              "      <th>2021-09-03</th>\n",
              "      <td>69.34</td>\n",
              "    </tr>\n",
              "    <tr>\n",
              "      <th>2021-09-07</th>\n",
              "      <td>68.49</td>\n",
              "    </tr>\n",
              "  </tbody>\n",
              "</table>\n",
              "</div>"
            ],
            "text/plain": [
              "            Prices\n",
              "Date              \n",
              "2021-08-31   68.43\n",
              "2021-09-01   68.63\n",
              "2021-09-02   70.07\n",
              "2021-09-03   69.34\n",
              "2021-09-07   68.49"
            ]
          },
          "metadata": {},
          "execution_count": 38
        }
      ]
    },
    {
      "cell_type": "code",
      "metadata": {
        "colab": {
          "base_uri": "https://localhost:8080/"
        },
        "id": "G8lJLI2z7qK8",
        "outputId": "a7b9e3a0-64ea-4cf7-9150-85404ed12023"
      },
      "source": [
        "ts_norm = dn.apply(ts.values)\n",
        "ts_norm"
      ],
      "execution_count": null,
      "outputs": [
        {
          "output_type": "execute_result",
          "data": {
            "text/plain": [
              "array([[1.10792182],\n",
              "       [1.12335266],\n",
              "       [1.2344547 ],\n",
              "       [1.17813214],\n",
              "       [1.11255107],\n",
              "       [1.17967522],\n",
              "       [1.09480561],\n",
              "       [1.21516615],\n",
              "       [1.27071718],\n",
              "       [1.26994563],\n",
              "       [1.42888328],\n",
              "       [1.4365987 ],\n",
              "       [1.39030618],\n",
              "       [1.26068713],\n",
              "       [1.26840255],\n",
              "       [1.41190936],\n",
              "       [1.49369281],\n",
              "       [1.55155846],\n",
              "       [1.65648816],\n",
              "       [1.64877274],\n",
              "       [1.61945415],\n",
              "       [1.63179882],\n",
              "       [1.69275064],\n",
              "       [1.82159815]])"
            ]
          },
          "metadata": {},
          "execution_count": 39
        }
      ]
    },
    {
      "cell_type": "code",
      "metadata": {
        "colab": {
          "base_uri": "https://localhost:8080/"
        },
        "id": "OnGMSdGX79_7",
        "outputId": "eb34f60e-c0c1-4ad3-a298-daf7661e75db"
      },
      "source": [
        "ts_norm.shape"
      ],
      "execution_count": null,
      "outputs": [
        {
          "output_type": "execute_result",
          "data": {
            "text/plain": [
              "(24, 1)"
            ]
          },
          "metadata": {},
          "execution_count": 40
        }
      ]
    },
    {
      "cell_type": "code",
      "metadata": {
        "colab": {
          "base_uri": "https://localhost:8080/",
          "height": 204
        },
        "id": "kZD76c048Nbc",
        "outputId": "3d27039e-a3cc-4502-da0a-a5c5b8ea5017"
      },
      "source": [
        "pd.DataFrame(tf.squeeze(dn.apply_inv(x_train_uni)).numpy()).head()"
      ],
      "execution_count": null,
      "outputs": [
        {
          "output_type": "execute_result",
          "data": {
            "text/html": [
              "<div>\n",
              "<style scoped>\n",
              "    .dataframe tbody tr th:only-of-type {\n",
              "        vertical-align: middle;\n",
              "    }\n",
              "\n",
              "    .dataframe tbody tr th {\n",
              "        vertical-align: top;\n",
              "    }\n",
              "\n",
              "    .dataframe thead th {\n",
              "        text-align: right;\n",
              "    }\n",
              "</style>\n",
              "<table border=\"1\" class=\"dataframe\">\n",
              "  <thead>\n",
              "    <tr style=\"text-align: right;\">\n",
              "      <th></th>\n",
              "      <th>0</th>\n",
              "      <th>1</th>\n",
              "      <th>2</th>\n",
              "      <th>3</th>\n",
              "      <th>4</th>\n",
              "      <th>5</th>\n",
              "      <th>6</th>\n",
              "      <th>7</th>\n",
              "      <th>8</th>\n",
              "      <th>9</th>\n",
              "      <th>10</th>\n",
              "      <th>11</th>\n",
              "      <th>12</th>\n",
              "      <th>13</th>\n",
              "      <th>14</th>\n",
              "      <th>15</th>\n",
              "      <th>16</th>\n",
              "      <th>17</th>\n",
              "      <th>18</th>\n",
              "      <th>19</th>\n",
              "    </tr>\n",
              "  </thead>\n",
              "  <tbody>\n",
              "    <tr>\n",
              "      <th>0</th>\n",
              "      <td>47.65</td>\n",
              "      <td>46.40</td>\n",
              "      <td>46.46</td>\n",
              "      <td>45.96</td>\n",
              "      <td>47.26</td>\n",
              "      <td>47.32</td>\n",
              "      <td>48.63</td>\n",
              "      <td>49.13</td>\n",
              "      <td>49.10</td>\n",
              "      <td>47.44</td>\n",
              "      <td>48.06</td>\n",
              "      <td>48.21</td>\n",
              "      <td>49.30</td>\n",
              "      <td>49.86</td>\n",
              "      <td>49.90</td>\n",
              "      <td>49.88</td>\n",
              "      <td>49.54</td>\n",
              "      <td>50.29</td>\n",
              "      <td>50.58</td>\n",
              "      <td>50.33</td>\n",
              "    </tr>\n",
              "    <tr>\n",
              "      <th>1</th>\n",
              "      <td>46.40</td>\n",
              "      <td>46.46</td>\n",
              "      <td>45.96</td>\n",
              "      <td>47.26</td>\n",
              "      <td>47.32</td>\n",
              "      <td>48.63</td>\n",
              "      <td>49.13</td>\n",
              "      <td>49.10</td>\n",
              "      <td>47.44</td>\n",
              "      <td>48.06</td>\n",
              "      <td>48.21</td>\n",
              "      <td>49.30</td>\n",
              "      <td>49.86</td>\n",
              "      <td>49.90</td>\n",
              "      <td>49.88</td>\n",
              "      <td>49.54</td>\n",
              "      <td>50.29</td>\n",
              "      <td>50.58</td>\n",
              "      <td>50.33</td>\n",
              "      <td>51.85</td>\n",
              "    </tr>\n",
              "    <tr>\n",
              "      <th>2</th>\n",
              "      <td>46.46</td>\n",
              "      <td>45.96</td>\n",
              "      <td>47.26</td>\n",
              "      <td>47.32</td>\n",
              "      <td>48.63</td>\n",
              "      <td>49.13</td>\n",
              "      <td>49.10</td>\n",
              "      <td>47.44</td>\n",
              "      <td>48.06</td>\n",
              "      <td>48.21</td>\n",
              "      <td>49.30</td>\n",
              "      <td>49.86</td>\n",
              "      <td>49.90</td>\n",
              "      <td>49.88</td>\n",
              "      <td>49.54</td>\n",
              "      <td>50.29</td>\n",
              "      <td>50.58</td>\n",
              "      <td>50.33</td>\n",
              "      <td>51.85</td>\n",
              "      <td>51.59</td>\n",
              "    </tr>\n",
              "    <tr>\n",
              "      <th>3</th>\n",
              "      <td>45.96</td>\n",
              "      <td>47.26</td>\n",
              "      <td>47.32</td>\n",
              "      <td>48.63</td>\n",
              "      <td>49.13</td>\n",
              "      <td>49.10</td>\n",
              "      <td>47.44</td>\n",
              "      <td>48.06</td>\n",
              "      <td>48.21</td>\n",
              "      <td>49.30</td>\n",
              "      <td>49.86</td>\n",
              "      <td>49.90</td>\n",
              "      <td>49.88</td>\n",
              "      <td>49.54</td>\n",
              "      <td>50.29</td>\n",
              "      <td>50.58</td>\n",
              "      <td>50.33</td>\n",
              "      <td>51.85</td>\n",
              "      <td>51.59</td>\n",
              "      <td>52.14</td>\n",
              "    </tr>\n",
              "    <tr>\n",
              "      <th>4</th>\n",
              "      <td>47.26</td>\n",
              "      <td>47.32</td>\n",
              "      <td>48.63</td>\n",
              "      <td>49.13</td>\n",
              "      <td>49.10</td>\n",
              "      <td>47.44</td>\n",
              "      <td>48.06</td>\n",
              "      <td>48.21</td>\n",
              "      <td>49.30</td>\n",
              "      <td>49.86</td>\n",
              "      <td>49.90</td>\n",
              "      <td>49.88</td>\n",
              "      <td>49.54</td>\n",
              "      <td>50.29</td>\n",
              "      <td>50.58</td>\n",
              "      <td>50.33</td>\n",
              "      <td>51.85</td>\n",
              "      <td>51.59</td>\n",
              "      <td>52.14</td>\n",
              "      <td>51.62</td>\n",
              "    </tr>\n",
              "  </tbody>\n",
              "</table>\n",
              "</div>"
            ],
            "text/plain": [
              "      0      1      2      3      4      5      6      7      8      9   \\\n",
              "0  47.65  46.40  46.46  45.96  47.26  47.32  48.63  49.13  49.10  47.44   \n",
              "1  46.40  46.46  45.96  47.26  47.32  48.63  49.13  49.10  47.44  48.06   \n",
              "2  46.46  45.96  47.26  47.32  48.63  49.13  49.10  47.44  48.06  48.21   \n",
              "3  45.96  47.26  47.32  48.63  49.13  49.10  47.44  48.06  48.21  49.30   \n",
              "4  47.26  47.32  48.63  49.13  49.10  47.44  48.06  48.21  49.30  49.86   \n",
              "\n",
              "      10     11     12     13     14     15     16     17     18     19  \n",
              "0  48.06  48.21  49.30  49.86  49.90  49.88  49.54  50.29  50.58  50.33  \n",
              "1  48.21  49.30  49.86  49.90  49.88  49.54  50.29  50.58  50.33  51.85  \n",
              "2  49.30  49.86  49.90  49.88  49.54  50.29  50.58  50.33  51.85  51.59  \n",
              "3  49.86  49.90  49.88  49.54  50.29  50.58  50.33  51.85  51.59  52.14  \n",
              "4  49.90  49.88  49.54  50.29  50.58  50.33  51.85  51.59  52.14  51.62  "
            ]
          },
          "metadata": {},
          "execution_count": 47
        }
      ]
    },
    {
      "cell_type": "code",
      "metadata": {
        "colab": {
          "base_uri": "https://localhost:8080/",
          "height": 204
        },
        "id": "bk-8j_M08mQG",
        "outputId": "6ddc5b44-8b8f-4307-db30-47efbd8217fc"
      },
      "source": [
        "pd.DataFrame(tf.squeeze(dn.apply_inv(y_train_uni)).numpy()).head()"
      ],
      "execution_count": null,
      "outputs": [
        {
          "output_type": "execute_result",
          "data": {
            "text/html": [
              "<div>\n",
              "<style scoped>\n",
              "    .dataframe tbody tr th:only-of-type {\n",
              "        vertical-align: middle;\n",
              "    }\n",
              "\n",
              "    .dataframe tbody tr th {\n",
              "        vertical-align: top;\n",
              "    }\n",
              "\n",
              "    .dataframe thead th {\n",
              "        text-align: right;\n",
              "    }\n",
              "</style>\n",
              "<table border=\"1\" class=\"dataframe\">\n",
              "  <thead>\n",
              "    <tr style=\"text-align: right;\">\n",
              "      <th></th>\n",
              "      <th>0</th>\n",
              "    </tr>\n",
              "  </thead>\n",
              "  <tbody>\n",
              "    <tr>\n",
              "      <th>0</th>\n",
              "      <td>51.85</td>\n",
              "    </tr>\n",
              "    <tr>\n",
              "      <th>1</th>\n",
              "      <td>51.59</td>\n",
              "    </tr>\n",
              "    <tr>\n",
              "      <th>2</th>\n",
              "      <td>52.14</td>\n",
              "    </tr>\n",
              "    <tr>\n",
              "      <th>3</th>\n",
              "      <td>51.62</td>\n",
              "    </tr>\n",
              "    <tr>\n",
              "      <th>4</th>\n",
              "      <td>51.67</td>\n",
              "    </tr>\n",
              "  </tbody>\n",
              "</table>\n",
              "</div>"
            ],
            "text/plain": [
              "       0\n",
              "0  51.85\n",
              "1  51.59\n",
              "2  52.14\n",
              "3  51.62\n",
              "4  51.67"
            ]
          },
          "metadata": {},
          "execution_count": 48
        }
      ]
    },
    {
      "cell_type": "code",
      "metadata": {
        "id": "J4tOw3OT-jvw"
      },
      "source": [
        "test_val = ts_norm[:20]"
      ],
      "execution_count": null,
      "outputs": []
    },
    {
      "cell_type": "code",
      "metadata": {
        "colab": {
          "base_uri": "https://localhost:8080/"
        },
        "id": "9ujzEn3y_kQT",
        "outputId": "4016912a-95a4-4e19-ecb0-4e63d55b5646"
      },
      "source": [
        "test_val_exp = tf.expand_dims(test_val,axis=0).numpy()\n",
        "test_val_exp"
      ],
      "execution_count": null,
      "outputs": [
        {
          "output_type": "execute_result",
          "data": {
            "text/plain": [
              "array([[[1.10792182],\n",
              "        [1.12335266],\n",
              "        [1.2344547 ],\n",
              "        [1.17813214],\n",
              "        [1.11255107],\n",
              "        [1.17967522],\n",
              "        [1.09480561],\n",
              "        [1.21516615],\n",
              "        [1.27071718],\n",
              "        [1.26994563],\n",
              "        [1.42888328],\n",
              "        [1.4365987 ],\n",
              "        [1.39030618],\n",
              "        [1.26068713],\n",
              "        [1.26840255],\n",
              "        [1.41190936],\n",
              "        [1.49369281],\n",
              "        [1.55155846],\n",
              "        [1.65648816],\n",
              "        [1.64877274]]])"
            ]
          },
          "metadata": {},
          "execution_count": 56
        }
      ]
    },
    {
      "cell_type": "code",
      "metadata": {
        "id": "iUqyzQ9e_NKw"
      },
      "source": [
        "pred_val = m.predict(test_val_exp)"
      ],
      "execution_count": null,
      "outputs": []
    },
    {
      "cell_type": "code",
      "metadata": {
        "colab": {
          "base_uri": "https://localhost:8080/"
        },
        "id": "tWpquyrY_d-x",
        "outputId": "734a411a-4a1a-4602-e46a-c7c2b4f957e3"
      },
      "source": [
        "pred_inv = dn.apply_inv(pred_val)\n",
        "print(f'the predicted price for september 29th is:{pred_inv[0][0][0]}')"
      ],
      "execution_count": null,
      "outputs": [
        {
          "output_type": "stream",
          "name": "stdout",
          "text": [
            "the predicted price for september 29th is:75.57968139648438\n"
          ]
        }
      ]
    },
    {
      "cell_type": "code",
      "metadata": {
        "colab": {
          "base_uri": "https://localhost:8080/"
        },
        "id": "pg24G93JAD8F",
        "outputId": "eb884a96-62fa-4cd3-c1bf-b48c686b1148"
      },
      "source": [
        "ts.iloc[20,:]"
      ],
      "execution_count": null,
      "outputs": [
        {
          "output_type": "execute_result",
          "data": {
            "text/plain": [
              "Prices    75.06\n",
              "Name: 2021-09-29 00:00:00, dtype: float64"
            ]
          },
          "metadata": {},
          "execution_count": 61
        }
      ]
    },
    {
      "cell_type": "code",
      "metadata": {
        "id": "2bzpEsglAUj4"
      },
      "source": [
        "# m.save('/content/drive/MyDrive/nbeats_model.h5')"
      ],
      "execution_count": null,
      "outputs": []
    },
    {
      "cell_type": "code",
      "metadata": {
        "id": "vLbNyCTeCEjh"
      },
      "source": [
        ""
      ],
      "execution_count": null,
      "outputs": []
    }
  ]
}